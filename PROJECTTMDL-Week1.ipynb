{
  "nbformat": 4,
  "nbformat_minor": 0,
  "metadata": {
    "colab": {
      "provenance": [],
      "authorship_tag": "ABX9TyOG4atkDajL+760gQ+z40X0",
      "include_colab_link": true
    },
    "kernelspec": {
      "name": "python3",
      "display_name": "Python 3"
    },
    "language_info": {
      "name": "python"
    }
  },
  "cells": [
    {
      "cell_type": "markdown",
      "metadata": {
        "id": "view-in-github",
        "colab_type": "text"
      },
      "source": [
        "<a href=\"https://colab.research.google.com/github/JipFlinterman/TuringMachineJip/blob/main/PROJECTTMDL-Week1.ipynb\" target=\"_parent\"><img src=\"https://colab.research.google.com/assets/colab-badge.svg\" alt=\"Open In Colab\"/></a>"
      ]
    },
    {
      "cell_type": "markdown",
      "source": [
        "# The titanic project\n"
      ],
      "metadata": {
        "id": "R2ZcbDfRwDBX"
      }
    },
    {
      "cell_type": "markdown",
      "source": [
        "We started our project by finding a dataset. We thought of the titanic dataset on Kaggle. We thought it would be interesting to see **what kind of people will survive based on different charasteristics**. We have got a training set, and a test set. We will use the training set for learning the \"machine\" what type of people will survive. After that we will use this program to predict if the people in the test set will survive the titanic."
      ],
      "metadata": {
        "id": "o7ZSJN-bu-41"
      }
    },
    {
      "cell_type": "code",
      "execution_count": 29,
      "metadata": {
        "id": "vAsGZ2w_uT6Q"
      },
      "outputs": [],
      "source": [
        "import pandas as pd\n",
        "import numpy as np\n",
        "import matplotlib.pyplot as plt\n",
        "import seaborn as sns\n",
        "\n",
        "#LOADING THE DATASETS\n",
        "df_train = pd.read_csv(\"/content/train.csv\")\n",
        "df_test = pd.read_csv(\"/content/test.csv\")"
      ]
    },
    {
      "cell_type": "markdown",
      "source": [
        "**DATA EXPLANATION:**\n",
        "\n",
        "---\n",
        "\n",
        "\n",
        "survival - Survival - [0 = No, 1 = Yes]\n",
        "pclass - Ticket class - [1 = 1st, 2 = 2nd, 3 = 3rd]\n",
        "sex\t- Sex\n",
        "Age\t- Age in years\n",
        "sibsp\t- # of siblings / spouses aboard the Titanic\n",
        "parch\t- # of parents / children aboard the Titanic\n",
        "ticket - Ticket number\n",
        "fare - Passenger fare\n",
        "cabin\t- Cabin number\n",
        "embarked\t- Port of Embarkation\t- [C = Cherbourg, Q = Queenstown, S = Southampton]\n"
      ],
      "metadata": {
        "id": "gbRQ2LX8yIt2"
      }
    },
    {
      "cell_type": "markdown",
      "source": [
        "# Making an overview of the data"
      ],
      "metadata": {
        "id": "WRj0Li-bzX3r"
      }
    },
    {
      "cell_type": "code",
      "source": [
        "#PRINTING AN OVERVIEW OF WHICH COLUMNS ARE IN THE DATASET\n",
        "print(df_train.columns)\n",
        "print(df_test.columns)"
      ],
      "metadata": {
        "colab": {
          "base_uri": "https://localhost:8080/"
        },
        "id": "cR5DKpEhxJrn",
        "outputId": "31665101-c421-4aed-e48a-c8dd40a0f867"
      },
      "execution_count": 11,
      "outputs": [
        {
          "output_type": "stream",
          "name": "stdout",
          "text": [
            "Index(['PassengerId', 'Survived', 'Pclass', 'Name', 'Sex', 'Age', 'SibSp',\n",
            "       'Parch', 'Ticket', 'Fare', 'Cabin', 'Embarked'],\n",
            "      dtype='object')\n",
            "Index(['PassengerId', 'Pclass', 'Name', 'Sex', 'Age', 'SibSp', 'Parch',\n",
            "       'Ticket', 'Fare', 'Cabin', 'Embarked'],\n",
            "      dtype='object')\n"
          ]
        }
      ]
    },
    {
      "cell_type": "code",
      "source": [
        "#LOOKING FOR WEIRD THINGS LIKE MISSING VALUES\n",
        "print(df_train.describe())\n",
        "print(df_test.describe())\n",
        "print(\"-----------------------------------\")\n",
        "print(df_train.head())"
      ],
      "metadata": {
        "colab": {
          "base_uri": "https://localhost:8080/"
        },
        "id": "6MaGfdo6x4lc",
        "outputId": "1210a8f9-86bc-40c2-e0c0-80515562add0"
      },
      "execution_count": 49,
      "outputs": [
        {
          "output_type": "stream",
          "name": "stdout",
          "text": [
            "       PassengerId    Survived      Pclass         Age       SibSp  \\\n",
            "count   891.000000  891.000000  891.000000  714.000000  891.000000   \n",
            "mean    446.000000    0.383838    2.308642   29.699118    0.523008   \n",
            "std     257.353842    0.486592    0.836071   14.526497    1.102743   \n",
            "min       1.000000    0.000000    1.000000    0.420000    0.000000   \n",
            "25%     223.500000    0.000000    2.000000   20.125000    0.000000   \n",
            "50%     446.000000    0.000000    3.000000   28.000000    0.000000   \n",
            "75%     668.500000    1.000000    3.000000   38.000000    1.000000   \n",
            "max     891.000000    1.000000    3.000000   80.000000    8.000000   \n",
            "\n",
            "            Parch        Fare  \n",
            "count  891.000000  891.000000  \n",
            "mean     0.381594   32.204208  \n",
            "std      0.806057   49.693429  \n",
            "min      0.000000    0.000000  \n",
            "25%      0.000000    7.910400  \n",
            "50%      0.000000   14.454200  \n",
            "75%      0.000000   31.000000  \n",
            "max      6.000000  512.329200  \n",
            "       PassengerId      Pclass         Age       SibSp       Parch        Fare\n",
            "count   418.000000  418.000000  332.000000  418.000000  418.000000  417.000000\n",
            "mean   1100.500000    2.265550   30.272590    0.447368    0.392344   35.627188\n",
            "std     120.810458    0.841838   14.181209    0.896760    0.981429   55.907576\n",
            "min     892.000000    1.000000    0.170000    0.000000    0.000000    0.000000\n",
            "25%     996.250000    1.000000   21.000000    0.000000    0.000000    7.895800\n",
            "50%    1100.500000    3.000000   27.000000    0.000000    0.000000   14.454200\n",
            "75%    1204.750000    3.000000   39.000000    1.000000    0.000000   31.500000\n",
            "max    1309.000000    3.000000   76.000000    8.000000    9.000000  512.329200\n",
            "-----------------------------------\n",
            "   PassengerId  Survived  Pclass  \\\n",
            "0            1         0       3   \n",
            "1            2         1       1   \n",
            "2            3         1       3   \n",
            "3            4         1       1   \n",
            "4            5         0       3   \n",
            "\n",
            "                                                Name     Sex   Age  SibSp  \\\n",
            "0                            Braund, Mr. Owen Harris    male  22.0      1   \n",
            "1  Cumings, Mrs. John Bradley (Florence Briggs Th...  female  38.0      1   \n",
            "2                             Heikkinen, Miss. Laina  female  26.0      0   \n",
            "3       Futrelle, Mrs. Jacques Heath (Lily May Peel)  female  35.0      1   \n",
            "4                           Allen, Mr. William Henry    male  35.0      0   \n",
            "\n",
            "   Parch            Ticket     Fare Cabin Embarked  \n",
            "0      0         A/5 21171   7.2500   NaN        S  \n",
            "1      0          PC 17599  71.2833   C85        C  \n",
            "2      0  STON/O2. 3101282   7.9250   NaN        S  \n",
            "3      0            113803  53.1000  C123        S  \n",
            "4      0            373450   8.0500   NaN        S  \n"
          ]
        }
      ]
    },
    {
      "cell_type": "markdown",
      "source": [
        "# Filtering out data\n",
        "We decided to drop the rows with missing ages. This made our dataset go down from 891 to 712 observations. We also decided to drop the cabin column since it has a lot of missing values. We don't want to work with incomplete information and therefore we dropped it. We also decided to make sex binary and give males the value 0 and females the value 1.\n",
        "\n"
      ],
      "metadata": {
        "id": "F-RHylG_1Vb3"
      }
    },
    {
      "cell_type": "code",
      "source": [
        "#DROPPING CABIN\n",
        "df_train_filtered = df_train.drop('Cabin', axis=1)\n",
        "\n",
        "#REMOVING MISSING VALUES\n",
        "df_train_filtered = df_train_filtered.dropna()\n",
        "\n",
        "#MAKING SEX BINARY\n",
        "df_train_filtered[\"Sex\"] = [0 if x == 'male' else 1 for x in df_train_filtered[\"Sex\"]]\n",
        "\n",
        "#SMALL CHECK\n",
        "print(df_train_filtered.head(10))"
      ],
      "metadata": {
        "colab": {
          "base_uri": "https://localhost:8080/"
        },
        "id": "ZGsSIV48yE1S",
        "outputId": "a20f5f54-5bb8-48bb-c365-692fec78ca38"
      },
      "execution_count": 50,
      "outputs": [
        {
          "output_type": "stream",
          "name": "stdout",
          "text": [
            "    PassengerId  Survived  Pclass  \\\n",
            "0             1         0       3   \n",
            "1             2         1       1   \n",
            "2             3         1       3   \n",
            "3             4         1       1   \n",
            "4             5         0       3   \n",
            "6             7         0       1   \n",
            "7             8         0       3   \n",
            "8             9         1       3   \n",
            "9            10         1       2   \n",
            "10           11         1       3   \n",
            "\n",
            "                                                 Name  Sex   Age  SibSp  \\\n",
            "0                             Braund, Mr. Owen Harris    0  22.0      1   \n",
            "1   Cumings, Mrs. John Bradley (Florence Briggs Th...    1  38.0      1   \n",
            "2                              Heikkinen, Miss. Laina    1  26.0      0   \n",
            "3        Futrelle, Mrs. Jacques Heath (Lily May Peel)    1  35.0      1   \n",
            "4                            Allen, Mr. William Henry    0  35.0      0   \n",
            "6                             McCarthy, Mr. Timothy J    0  54.0      0   \n",
            "7                      Palsson, Master. Gosta Leonard    0   2.0      3   \n",
            "8   Johnson, Mrs. Oscar W (Elisabeth Vilhelmina Berg)    1  27.0      0   \n",
            "9                 Nasser, Mrs. Nicholas (Adele Achem)    1  14.0      1   \n",
            "10                    Sandstrom, Miss. Marguerite Rut    1   4.0      1   \n",
            "\n",
            "    Parch            Ticket     Fare Embarked  \n",
            "0       0         A/5 21171   7.2500        S  \n",
            "1       0          PC 17599  71.2833        C  \n",
            "2       0  STON/O2. 3101282   7.9250        S  \n",
            "3       0            113803  53.1000        S  \n",
            "4       0            373450   8.0500        S  \n",
            "6       0             17463  51.8625        S  \n",
            "7       1            349909  21.0750        S  \n",
            "8       2            347742  11.1333        S  \n",
            "9       0            237736  30.0708        C  \n",
            "10      1           PP 9549  16.7000        S  \n"
          ]
        }
      ]
    }
  ]
}