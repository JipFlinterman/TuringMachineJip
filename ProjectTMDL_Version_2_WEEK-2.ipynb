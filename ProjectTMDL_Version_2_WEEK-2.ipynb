{
  "nbformat": 4,
  "nbformat_minor": 0,
  "metadata": {
    "colab": {
      "provenance": [],
      "include_colab_link": true
    },
    "kernelspec": {
      "name": "python3",
      "display_name": "Python 3"
    },
    "language_info": {
      "name": "python"
    }
  },
  "cells": [
    {
      "cell_type": "markdown",
      "metadata": {
        "id": "view-in-github",
        "colab_type": "text"
      },
      "source": [
        "<a href=\"https://colab.research.google.com/github/JipFlinterman/TuringMachineJip/blob/main/ProjectTMDL_Version_2_WEEK-2.ipynb\" target=\"_parent\"><img src=\"https://colab.research.google.com/assets/colab-badge.svg\" alt=\"Open In Colab\"/></a>"
      ]
    },
    {
      "cell_type": "markdown",
      "source": [
        "# Predict house prices"
      ],
      "metadata": {
        "id": "r5303lD1ox-R"
      }
    },
    {
      "cell_type": "markdown",
      "source": [
        "We decided to get a new dataset instead of the Titanic prediction set since it was a bit too easy. Right now we are going to predict the houseprices of houses!"
      ],
      "metadata": {
        "id": "YrXJ5xNK4mkC"
      }
    },
    {
      "cell_type": "markdown",
      "source": [
        "Loading the data"
      ],
      "metadata": {
        "id": "ma5bhVwHpNgm"
      }
    },
    {
      "cell_type": "code",
      "execution_count": 52,
      "metadata": {
        "id": "NFVwrmrfoLYo"
      },
      "outputs": [],
      "source": [
        "#LOADING LIBRARIES\n",
        "import pandas as pd\n",
        "import matplotlib.pyplot as plt\n",
        "import seaborn as sns\n",
        "import numpy as np\n",
        "\n",
        "#LOADING TRAINING DF\n",
        "df_train = pd.read_csv(\"/content/train.csv\")"
      ]
    },
    {
      "cell_type": "markdown",
      "source": [
        "Basic info on the df: We were checking the data for missing values and we did some checking in excel."
      ],
      "metadata": {
        "id": "sb1J8Ru7pQQD"
      }
    },
    {
      "cell_type": "code",
      "source": [
        "#BASIC INFO ON THE DATA\n",
        "df_train.describe()\n",
        "df_train.columns\n",
        "columns = list(df_train.columns)\n",
        "for x in columns:\n",
        "  print(df_train[x].count(), x)\n",
        "# df_train[\"GarageYrBlt\"].describe()\n"
      ],
      "metadata": {
        "colab": {
          "base_uri": "https://localhost:8080/"
        },
        "id": "-8a-JoJ5pNAP",
        "outputId": "b13f4291-1480-4286-b557-7fc4ebe77d73"
      },
      "execution_count": 61,
      "outputs": [
        {
          "output_type": "stream",
          "name": "stdout",
          "text": [
            "1460 Id\n",
            "1460 MSSubClass\n",
            "1460 MSZoning\n",
            "1201 LotFrontage\n",
            "1460 LotArea\n",
            "1460 Street\n",
            "91 Alley\n",
            "1460 LotShape\n",
            "1460 LandContour\n",
            "1460 Utilities\n",
            "1460 LotConfig\n",
            "1460 LandSlope\n",
            "1460 Neighborhood\n",
            "1460 Condition1\n",
            "1460 Condition2\n",
            "1460 BldgType\n",
            "1460 HouseStyle\n",
            "1460 OverallQual\n",
            "1460 OverallCond\n",
            "1460 YearBuilt\n",
            "1460 YearRemodAdd\n",
            "1460 RoofStyle\n",
            "1460 RoofMatl\n",
            "1460 Exterior1st\n",
            "1460 Exterior2nd\n",
            "588 MasVnrType\n",
            "1452 MasVnrArea\n",
            "1460 ExterQual\n",
            "1460 ExterCond\n",
            "1460 Foundation\n",
            "1423 BsmtQual\n",
            "1423 BsmtCond\n",
            "1422 BsmtExposure\n",
            "1423 BsmtFinType1\n",
            "1460 BsmtFinSF1\n",
            "1422 BsmtFinType2\n",
            "1460 BsmtFinSF2\n",
            "1460 BsmtUnfSF\n",
            "1460 TotalBsmtSF\n",
            "1460 Heating\n",
            "1460 HeatingQC\n",
            "1460 CentralAir\n",
            "1459 Electrical\n",
            "1460 1stFlrSF\n",
            "1460 2ndFlrSF\n",
            "1460 LowQualFinSF\n",
            "1460 GrLivArea\n",
            "1460 BsmtFullBath\n",
            "1460 BsmtHalfBath\n",
            "1460 FullBath\n",
            "1460 HalfBath\n",
            "1460 BedroomAbvGr\n",
            "1460 KitchenAbvGr\n",
            "1460 KitchenQual\n",
            "1460 TotRmsAbvGrd\n",
            "1460 Functional\n",
            "1460 Fireplaces\n",
            "770 FireplaceQu\n",
            "1379 GarageType\n",
            "1379 GarageYrBlt\n",
            "1379 GarageFinish\n",
            "1460 GarageCars\n",
            "1460 GarageArea\n",
            "1379 GarageQual\n",
            "1379 GarageCond\n",
            "1460 PavedDrive\n",
            "1460 WoodDeckSF\n",
            "1460 OpenPorchSF\n",
            "1460 EnclosedPorch\n",
            "1460 3SsnPorch\n",
            "1460 ScreenPorch\n",
            "1460 PoolArea\n",
            "7 PoolQC\n",
            "281 Fence\n",
            "54 MiscFeature\n",
            "1460 MiscVal\n",
            "1460 MoSold\n",
            "1460 YrSold\n",
            "1460 SaleType\n",
            "1460 SaleCondition\n",
            "1460 SalePrice\n"
          ]
        }
      ]
    },
    {
      "cell_type": "markdown",
      "source": [
        "We decided to drop a lot of data. We had like 1460 observations and decided to drop entire columns which had less than 1400 observation. This was our cutoff point.\n",
        "All columns which had more than 1400 observations but less than 1460 we dropped the rows with missing values. This left us with 69 columns instead of 81 and 1412 observations instead of 1460."
      ],
      "metadata": {
        "id": "JTuI9EJp5E75"
      }
    },
    {
      "cell_type": "code",
      "source": [
        "#FILTERING IT MANUALLY # NOT GOOD\n",
        "# df_train_filtered = df_train.drop(\"LotFrontage\", axis=1)\n",
        "# df_train_filtered = df_train_filtered.drop(\"Alley\", axis=1)\n",
        "# df_train_filtered = df_train_filtered.dropna(subset=[\"MasVnrArea\"])\n",
        "# df_train_filtered = df_train_filtered.drop(\"PoolQC\", axis=1)\n",
        "# df_train_filtered = df_train_filtered.drop(\"PoolArea\", axis=1)\n",
        "# df_train_filtered = df_train_filtered.drop(\"GarageYrBlt\", axis=1)\n",
        "# df_train_filtered = df_train_filtered.drop(\"MiscFeature\", axis=1)\n",
        "# df_train_filtered = df_train_filtered.drop(\"MasVnrType\", axis=1)\n",
        "\n",
        "# for x in columns:\n",
        "#   if df_train[x].count() < 1460:\n",
        "#     df_train_filtered = df_train.drop(x, axis=1)\n",
        "\n",
        "# df_train_filtered_na = df_train.drop(\"LotFrontage\", axis=1)\n",
        "# df_train_filtered_na = df_train_filtered_na.drop(\"Alley\", axis=1)\n",
        "# df_train_filtered_na = df_train_filtered_na.dropna(subset=[\"MasVnrArea\"])\n",
        "# df_train_filtered_na = df_train_filtered_na.drop(\"PoolQC\", axis=1)\n",
        "# df_train_filtered_na = df_train_filtered_na.drop(\"PoolArea\", axis=1)\n",
        "# df_train_filtered_na = df_train_filtered_na.dropna(subset = \"GarageYrBlt\")\n",
        "# df_train_filtered_na = df_train_filtered_na.drop(\"MiscFeature\", axis=1)\n",
        "# df_train_filtered_na = df_train_filtered_na.drop(\"MasVnrType\", axis=1)\n",
        "\n",
        "\n",
        "print(df_train.columns)\n",
        "columns = list(df_train.columns)\n",
        "print(len(columns))\n",
        "\n",
        "#FILTERING IT BY <1400 => drop, >1400&<1469 => dropna\n",
        "df_train_filtered = df_train\n",
        "for x in columns:\n",
        "    if df_train[x].count() < 1400:\n",
        "      df_train_filtered = df_train_filtered.drop(x, axis=1)\n",
        "    else:\n",
        "      df_train_filtered = df_train_filtered.dropna(subset = x)\n",
        "\n",
        "#checking what is left\n",
        "print(df_train_filtered.columns)\n",
        "print(len(df_train_filtered.columns))\n",
        "print(df_train_filtered[\"Id\"].describe())"
      ],
      "metadata": {
        "id": "JKBBnTRdqZcd",
        "colab": {
          "base_uri": "https://localhost:8080/"
        },
        "outputId": "10a91b8f-09d3-433b-89bd-ac7768f47fe8"
      },
      "execution_count": 60,
      "outputs": [
        {
          "output_type": "stream",
          "name": "stdout",
          "text": [
            "Index(['Id', 'MSSubClass', 'MSZoning', 'LotFrontage', 'LotArea', 'Street',\n",
            "       'Alley', 'LotShape', 'LandContour', 'Utilities', 'LotConfig',\n",
            "       'LandSlope', 'Neighborhood', 'Condition1', 'Condition2', 'BldgType',\n",
            "       'HouseStyle', 'OverallQual', 'OverallCond', 'YearBuilt', 'YearRemodAdd',\n",
            "       'RoofStyle', 'RoofMatl', 'Exterior1st', 'Exterior2nd', 'MasVnrType',\n",
            "       'MasVnrArea', 'ExterQual', 'ExterCond', 'Foundation', 'BsmtQual',\n",
            "       'BsmtCond', 'BsmtExposure', 'BsmtFinType1', 'BsmtFinSF1',\n",
            "       'BsmtFinType2', 'BsmtFinSF2', 'BsmtUnfSF', 'TotalBsmtSF', 'Heating',\n",
            "       'HeatingQC', 'CentralAir', 'Electrical', '1stFlrSF', '2ndFlrSF',\n",
            "       'LowQualFinSF', 'GrLivArea', 'BsmtFullBath', 'BsmtHalfBath', 'FullBath',\n",
            "       'HalfBath', 'BedroomAbvGr', 'KitchenAbvGr', 'KitchenQual',\n",
            "       'TotRmsAbvGrd', 'Functional', 'Fireplaces', 'FireplaceQu', 'GarageType',\n",
            "       'GarageYrBlt', 'GarageFinish', 'GarageCars', 'GarageArea', 'GarageQual',\n",
            "       'GarageCond', 'PavedDrive', 'WoodDeckSF', 'OpenPorchSF',\n",
            "       'EnclosedPorch', '3SsnPorch', 'ScreenPorch', 'PoolArea', 'PoolQC',\n",
            "       'Fence', 'MiscFeature', 'MiscVal', 'MoSold', 'YrSold', 'SaleType',\n",
            "       'SaleCondition', 'SalePrice'],\n",
            "      dtype='object')\n",
            "81\n",
            "Index(['Id', 'MSSubClass', 'MSZoning', 'LotArea', 'Street', 'LotShape',\n",
            "       'LandContour', 'Utilities', 'LotConfig', 'LandSlope', 'Neighborhood',\n",
            "       'Condition1', 'Condition2', 'BldgType', 'HouseStyle', 'OverallQual',\n",
            "       'OverallCond', 'YearBuilt', 'YearRemodAdd', 'RoofStyle', 'RoofMatl',\n",
            "       'Exterior1st', 'Exterior2nd', 'MasVnrArea', 'ExterQual', 'ExterCond',\n",
            "       'Foundation', 'BsmtQual', 'BsmtCond', 'BsmtExposure', 'BsmtFinType1',\n",
            "       'BsmtFinSF1', 'BsmtFinType2', 'BsmtFinSF2', 'BsmtUnfSF', 'TotalBsmtSF',\n",
            "       'Heating', 'HeatingQC', 'CentralAir', 'Electrical', '1stFlrSF',\n",
            "       '2ndFlrSF', 'LowQualFinSF', 'GrLivArea', 'BsmtFullBath', 'BsmtHalfBath',\n",
            "       'FullBath', 'HalfBath', 'BedroomAbvGr', 'KitchenAbvGr', 'KitchenQual',\n",
            "       'TotRmsAbvGrd', 'Functional', 'Fireplaces', 'GarageCars', 'GarageArea',\n",
            "       'PavedDrive', 'WoodDeckSF', 'OpenPorchSF', 'EnclosedPorch', '3SsnPorch',\n",
            "       'ScreenPorch', 'PoolArea', 'MiscVal', 'MoSold', 'YrSold', 'SaleType',\n",
            "       'SaleCondition', 'SalePrice'],\n",
            "      dtype='object')\n",
            "69\n",
            "count    1412.000000\n",
            "mean      729.773371\n",
            "std       422.443710\n",
            "min         1.000000\n",
            "25%       364.750000\n",
            "50%       727.500000\n",
            "75%      1098.250000\n",
            "max      1460.000000\n",
            "Name: Id, dtype: float64\n"
          ]
        }
      ]
    },
    {
      "cell_type": "markdown",
      "source": [
        "# Making everything numerical\n"
      ],
      "metadata": {
        "id": "edzYE5Y_0FhS"
      }
    },
    {
      "cell_type": "code",
      "source": [
        "print(type(df_train_filtered[\"Id\"].iloc[0]))"
      ],
      "metadata": {
        "colab": {
          "base_uri": "https://localhost:8080/"
        },
        "id": "Cs9HWkqr19Dl",
        "outputId": "db72f17a-3aec-4562-e60f-c59d8688edbd"
      },
      "execution_count": 71,
      "outputs": [
        {
          "output_type": "stream",
          "name": "stdout",
          "text": [
            "<class 'numpy.int64'>\n"
          ]
        }
      ]
    },
    {
      "cell_type": "markdown",
      "source": [
        "We made everything numerical, because that will be way easier to work with while making the machine learning models. This is done by filtering on unique values and then mapping the numerical values over the original database."
      ],
      "metadata": {
        "id": "_epoJkEJ55xc"
      }
    },
    {
      "cell_type": "code",
      "source": [
        "unique_dict = {}\n",
        "\n",
        "#making a unique values dictionary\n",
        "for x in df_train_filtered.columns:\n",
        "    if isinstance(df_train_filtered[x].iloc[0], str):\n",
        "        unique_dict[x] = df_train_filtered[x].unique().tolist()\n",
        "\n",
        "print(unique_dict)\n",
        "\n",
        "encoded_dict = {}\n",
        "\n",
        "#encoding numerical values for each unique item in the dictionary\n",
        "for col, values in unique_dict.items():\n",
        "    encoded_dict[col] = {val: i for i, val in enumerate(values)}\n",
        "\n",
        "print(encoded_dict)\n",
        "\n",
        "#overmapping it\n",
        "for col, mapping in encoded_dict.items():\n",
        "    df_train_filtered[col] = df_train_filtered[col].map(mapping)\n",
        "\n",
        "print(df_train_filtered.head())"
      ],
      "metadata": {
        "colab": {
          "base_uri": "https://localhost:8080/"
        },
        "id": "ohXngAt20XDx",
        "outputId": "a22f75b1-cf26-45ec-9003-e2d3663821ab"
      },
      "execution_count": 81,
      "outputs": [
        {
          "output_type": "stream",
          "name": "stdout",
          "text": [
            "{'MSZoning': ['RL', 'RM', 'C (all)', 'FV', 'RH'], 'Street': ['Pave', 'Grvl'], 'LotShape': ['Reg', 'IR1', 'IR2', 'IR3'], 'LandContour': ['Lvl', 'Bnk', 'Low', 'HLS'], 'Utilities': ['AllPub', 'NoSeWa'], 'LotConfig': ['Inside', 'FR2', 'Corner', 'CulDSac', 'FR3'], 'LandSlope': ['Gtl', 'Mod', 'Sev'], 'Neighborhood': ['CollgCr', 'Veenker', 'Crawfor', 'NoRidge', 'Mitchel', 'Somerst', 'NWAmes', 'OldTown', 'BrkSide', 'Sawyer', 'NridgHt', 'NAmes', 'SawyerW', 'IDOTRR', 'MeadowV', 'Timber', 'Gilbert', 'StoneBr', 'ClearCr', 'Edwards', 'NPkVill', 'Blmngtn', 'BrDale', 'SWISU', 'Blueste'], 'Condition1': ['Norm', 'Feedr', 'PosN', 'Artery', 'RRAe', 'RRNn', 'RRAn', 'PosA', 'RRNe'], 'Condition2': ['Norm', 'Artery', 'RRNn', 'Feedr', 'PosN', 'PosA', 'RRAn', 'RRAe'], 'BldgType': ['1Fam', '2fmCon', 'TwnhsE', 'Duplex', 'Twnhs'], 'HouseStyle': ['2Story', '1Story', '1.5Fin', '1.5Unf', 'SFoyer', 'SLvl', '2.5Unf', '2.5Fin'], 'RoofStyle': ['Gable', 'Hip', 'Gambrel', 'Mansard', 'Flat', 'Shed'], 'RoofMatl': ['CompShg', 'WdShngl', 'Metal', 'WdShake', 'Membran', 'Tar&Grv', 'Roll', 'ClyTile'], 'Exterior1st': ['VinylSd', 'MetalSd', 'Wd Sdng', 'HdBoard', 'BrkFace', 'WdShing', 'CemntBd', 'Plywood', 'Stucco', 'AsbShng', 'BrkComm', 'Stone', 'ImStucc', 'CBlock'], 'Exterior2nd': ['VinylSd', 'MetalSd', 'Wd Shng', 'HdBoard', 'Plywood', 'Wd Sdng', 'CmentBd', 'BrkFace', 'Stucco', 'AsbShng', 'Brk Cmn', 'ImStucc', 'AsphShn', 'Other', 'Stone', 'CBlock'], 'ExterQual': ['Gd', 'TA', 'Ex', 'Fa'], 'ExterCond': ['TA', 'Gd', 'Fa', 'Po', 'Ex'], 'Foundation': ['PConc', 'CBlock', 'BrkTil', 'Wood', 'Stone'], 'BsmtQual': ['Gd', 'TA', 'Ex', 'Fa'], 'BsmtCond': ['TA', 'Gd', 'Fa', 'Po'], 'BsmtExposure': ['No', 'Gd', 'Mn', 'Av'], 'BsmtFinType1': ['GLQ', 'ALQ', 'Unf', 'Rec', 'BLQ', 'LwQ'], 'BsmtFinType2': ['Unf', 'BLQ', 'ALQ', 'Rec', 'LwQ', 'GLQ'], 'Heating': ['GasA', 'GasW', 'Grav', 'OthW'], 'HeatingQC': ['Ex', 'Gd', 'TA', 'Fa', 'Po'], 'CentralAir': ['Y', 'N'], 'Electrical': ['SBrkr', 'FuseF', 'FuseA', 'FuseP', 'Mix'], 'KitchenQual': ['Gd', 'TA', 'Ex', 'Fa'], 'Functional': ['Typ', 'Min1', 'Maj1', 'Min2', 'Mod', 'Maj2', 'Sev'], 'PavedDrive': ['Y', 'N', 'P'], 'SaleType': ['WD', 'New', 'COD', 'ConLD', 'ConLI', 'CWD', 'ConLw', 'Con', 'Oth'], 'SaleCondition': ['Normal', 'Abnorml', 'Partial', 'Family', 'Alloca', 'AdjLand']}\n",
            "{'MSZoning': {'RL': 0, 'RM': 1, 'C (all)': 2, 'FV': 3, 'RH': 4}, 'Street': {'Pave': 0, 'Grvl': 1}, 'LotShape': {'Reg': 0, 'IR1': 1, 'IR2': 2, 'IR3': 3}, 'LandContour': {'Lvl': 0, 'Bnk': 1, 'Low': 2, 'HLS': 3}, 'Utilities': {'AllPub': 0, 'NoSeWa': 1}, 'LotConfig': {'Inside': 0, 'FR2': 1, 'Corner': 2, 'CulDSac': 3, 'FR3': 4}, 'LandSlope': {'Gtl': 0, 'Mod': 1, 'Sev': 2}, 'Neighborhood': {'CollgCr': 0, 'Veenker': 1, 'Crawfor': 2, 'NoRidge': 3, 'Mitchel': 4, 'Somerst': 5, 'NWAmes': 6, 'OldTown': 7, 'BrkSide': 8, 'Sawyer': 9, 'NridgHt': 10, 'NAmes': 11, 'SawyerW': 12, 'IDOTRR': 13, 'MeadowV': 14, 'Timber': 15, 'Gilbert': 16, 'StoneBr': 17, 'ClearCr': 18, 'Edwards': 19, 'NPkVill': 20, 'Blmngtn': 21, 'BrDale': 22, 'SWISU': 23, 'Blueste': 24}, 'Condition1': {'Norm': 0, 'Feedr': 1, 'PosN': 2, 'Artery': 3, 'RRAe': 4, 'RRNn': 5, 'RRAn': 6, 'PosA': 7, 'RRNe': 8}, 'Condition2': {'Norm': 0, 'Artery': 1, 'RRNn': 2, 'Feedr': 3, 'PosN': 4, 'PosA': 5, 'RRAn': 6, 'RRAe': 7}, 'BldgType': {'1Fam': 0, '2fmCon': 1, 'TwnhsE': 2, 'Duplex': 3, 'Twnhs': 4}, 'HouseStyle': {'2Story': 0, '1Story': 1, '1.5Fin': 2, '1.5Unf': 3, 'SFoyer': 4, 'SLvl': 5, '2.5Unf': 6, '2.5Fin': 7}, 'RoofStyle': {'Gable': 0, 'Hip': 1, 'Gambrel': 2, 'Mansard': 3, 'Flat': 4, 'Shed': 5}, 'RoofMatl': {'CompShg': 0, 'WdShngl': 1, 'Metal': 2, 'WdShake': 3, 'Membran': 4, 'Tar&Grv': 5, 'Roll': 6, 'ClyTile': 7}, 'Exterior1st': {'VinylSd': 0, 'MetalSd': 1, 'Wd Sdng': 2, 'HdBoard': 3, 'BrkFace': 4, 'WdShing': 5, 'CemntBd': 6, 'Plywood': 7, 'Stucco': 8, 'AsbShng': 9, 'BrkComm': 10, 'Stone': 11, 'ImStucc': 12, 'CBlock': 13}, 'Exterior2nd': {'VinylSd': 0, 'MetalSd': 1, 'Wd Shng': 2, 'HdBoard': 3, 'Plywood': 4, 'Wd Sdng': 5, 'CmentBd': 6, 'BrkFace': 7, 'Stucco': 8, 'AsbShng': 9, 'Brk Cmn': 10, 'ImStucc': 11, 'AsphShn': 12, 'Other': 13, 'Stone': 14, 'CBlock': 15}, 'ExterQual': {'Gd': 0, 'TA': 1, 'Ex': 2, 'Fa': 3}, 'ExterCond': {'TA': 0, 'Gd': 1, 'Fa': 2, 'Po': 3, 'Ex': 4}, 'Foundation': {'PConc': 0, 'CBlock': 1, 'BrkTil': 2, 'Wood': 3, 'Stone': 4}, 'BsmtQual': {'Gd': 0, 'TA': 1, 'Ex': 2, 'Fa': 3}, 'BsmtCond': {'TA': 0, 'Gd': 1, 'Fa': 2, 'Po': 3}, 'BsmtExposure': {'No': 0, 'Gd': 1, 'Mn': 2, 'Av': 3}, 'BsmtFinType1': {'GLQ': 0, 'ALQ': 1, 'Unf': 2, 'Rec': 3, 'BLQ': 4, 'LwQ': 5}, 'BsmtFinType2': {'Unf': 0, 'BLQ': 1, 'ALQ': 2, 'Rec': 3, 'LwQ': 4, 'GLQ': 5}, 'Heating': {'GasA': 0, 'GasW': 1, 'Grav': 2, 'OthW': 3}, 'HeatingQC': {'Ex': 0, 'Gd': 1, 'TA': 2, 'Fa': 3, 'Po': 4}, 'CentralAir': {'Y': 0, 'N': 1}, 'Electrical': {'SBrkr': 0, 'FuseF': 1, 'FuseA': 2, 'FuseP': 3, 'Mix': 4}, 'KitchenQual': {'Gd': 0, 'TA': 1, 'Ex': 2, 'Fa': 3}, 'Functional': {'Typ': 0, 'Min1': 1, 'Maj1': 2, 'Min2': 3, 'Mod': 4, 'Maj2': 5, 'Sev': 6}, 'PavedDrive': {'Y': 0, 'N': 1, 'P': 2}, 'SaleType': {'WD': 0, 'New': 1, 'COD': 2, 'ConLD': 3, 'ConLI': 4, 'CWD': 5, 'ConLw': 6, 'Con': 7, 'Oth': 8}, 'SaleCondition': {'Normal': 0, 'Abnorml': 1, 'Partial': 2, 'Family': 3, 'Alloca': 4, 'AdjLand': 5}}\n",
            "   Id  MSSubClass  MSZoning  LotArea  Street  LotShape  LandContour  \\\n",
            "0   1          60         0     8450       0         0            0   \n",
            "1   2          20         0     9600       0         0            0   \n",
            "2   3          60         0    11250       0         1            0   \n",
            "3   4          70         0     9550       0         1            0   \n",
            "4   5          60         0    14260       0         1            0   \n",
            "\n",
            "   Utilities  LotConfig  LandSlope  ...  EnclosedPorch  3SsnPorch  \\\n",
            "0          0          0          0  ...              0          0   \n",
            "1          0          1          0  ...              0          0   \n",
            "2          0          0          0  ...              0          0   \n",
            "3          0          2          0  ...            272          0   \n",
            "4          0          1          0  ...              0          0   \n",
            "\n",
            "   ScreenPorch  PoolArea  MiscVal  MoSold  YrSold  SaleType  SaleCondition  \\\n",
            "0            0         0        0       2    2008         0              0   \n",
            "1            0         0        0       5    2007         0              0   \n",
            "2            0         0        0       9    2008         0              0   \n",
            "3            0         0        0       2    2006         0              1   \n",
            "4            0         0        0      12    2008         0              0   \n",
            "\n",
            "   SalePrice  \n",
            "0     208500  \n",
            "1     181500  \n",
            "2     223500  \n",
            "3     140000  \n",
            "4     250000  \n",
            "\n",
            "[5 rows x 69 columns]\n"
          ]
        }
      ]
    }
  ]
}