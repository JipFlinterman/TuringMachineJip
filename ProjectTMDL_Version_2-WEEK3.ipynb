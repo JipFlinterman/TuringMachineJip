{
  "nbformat": 4,
  "nbformat_minor": 0,
  "metadata": {
    "colab": {
      "provenance": [],
      "include_colab_link": true
    },
    "kernelspec": {
      "name": "python3",
      "display_name": "Python 3"
    },
    "language_info": {
      "name": "python"
    }
  },
  "cells": [
    {
      "cell_type": "markdown",
      "metadata": {
        "id": "view-in-github",
        "colab_type": "text"
      },
      "source": [
        "<a href=\"https://colab.research.google.com/github/JipFlinterman/TuringMachineJip/blob/main/ProjectTMDL_Version_2-WEEK3.ipynb\" target=\"_parent\"><img src=\"https://colab.research.google.com/assets/colab-badge.svg\" alt=\"Open In Colab\"/></a>"
      ]
    },
    {
      "cell_type": "markdown",
      "source": [
        "# Predict house prices"
      ],
      "metadata": {
        "id": "r5303lD1ox-R"
      }
    },
    {
      "cell_type": "markdown",
      "source": [
        "We decided to get a new dataset instead of the Titanic prediction set since it was a bit too easy. Right now we are going to predict the houseprices of houses!"
      ],
      "metadata": {
        "id": "YrXJ5xNK4mkC"
      }
    },
    {
      "cell_type": "markdown",
      "source": [
        "Loading the data"
      ],
      "metadata": {
        "id": "ma5bhVwHpNgm"
      }
    },
    {
      "cell_type": "code",
      "execution_count": null,
      "metadata": {
        "id": "NFVwrmrfoLYo"
      },
      "outputs": [],
      "source": [
        "#LOADING LIBRARIES\n",
        "import pandas as pd\n",
        "import matplotlib.pyplot as plt\n",
        "import seaborn as sns\n",
        "import numpy as np\n",
        "import math\n",
        "import matplotlib.pyplot as plt\n",
        "from collections import Counter\n",
        "\n",
        "from scipy import stats\n",
        "from sklearn.linear_model import LinearRegression, Ridge, Lasso, ElasticNet\n",
        "from sklearn.metrics import mean_squared_error, r2_score\n",
        "from sklearn.model_selection import train_test_split, GridSearchCV\n",
        "from sklearn.ensemble import RandomForestRegressor\n",
        "from xgboost import XGBRegressor\n",
        "from sklearn.preprocessing import LabelEncoder, OneHotEncoder\n",
        "\n",
        "#LOADING TRAINING DF\n",
        "df_train = pd.read_csv(\"/content/train.csv\")\n",
        "df_test = pd.read_csv(\"/content/test.csv\")"
      ]
    },
    {
      "cell_type": "markdown",
      "source": [
        "Basic info on the df: We were checking the data for missing values and we did some checking in excel."
      ],
      "metadata": {
        "id": "sb1J8Ru7pQQD"
      }
    },
    {
      "cell_type": "code",
      "source": [
        "#BASIC INFO ON THE DATA\n",
        "df_train.describe()\n",
        "df_train.columns\n",
        "columns = list(df_train.columns)\n",
        "columns_test = list(df_test.columns)\n",
        "\n",
        "#Making list of outliers\n",
        "outlier_id = []"
      ],
      "metadata": {
        "id": "-8a-JoJ5pNAP"
      },
      "execution_count": null,
      "outputs": []
    },
    {
      "cell_type": "code",
      "source": [
        "for x in columns:\n",
        "  print(df_train[x].count(), x)\n",
        "\n",
        "for y in columns_test:\n",
        "  print(df_test[y].count(), y)\n"
      ],
      "metadata": {
        "colab": {
          "base_uri": "https://localhost:8080/"
        },
        "collapsed": true,
        "id": "VPFvzdunoHk6",
        "outputId": "4cc06d6e-e6ab-4ace-a16b-77f3299a462e"
      },
      "execution_count": null,
      "outputs": [
        {
          "output_type": "stream",
          "name": "stdout",
          "text": [
            "1460 Id\n",
            "1460 MSSubClass\n",
            "1460 MSZoning\n",
            "1201 LotFrontage\n",
            "1460 LotArea\n",
            "1460 Street\n",
            "91 Alley\n",
            "1460 LotShape\n",
            "1460 LandContour\n",
            "1460 Utilities\n",
            "1460 LotConfig\n",
            "1460 LandSlope\n",
            "1460 Neighborhood\n",
            "1460 Condition1\n",
            "1460 Condition2\n",
            "1460 BldgType\n",
            "1460 HouseStyle\n",
            "1460 OverallQual\n",
            "1460 OverallCond\n",
            "1460 YearBuilt\n",
            "1460 YearRemodAdd\n",
            "1460 RoofStyle\n",
            "1460 RoofMatl\n",
            "1460 Exterior1st\n",
            "1460 Exterior2nd\n",
            "588 MasVnrType\n",
            "1452 MasVnrArea\n",
            "1460 ExterQual\n",
            "1460 ExterCond\n",
            "1460 Foundation\n",
            "1423 BsmtQual\n",
            "1423 BsmtCond\n",
            "1422 BsmtExposure\n",
            "1423 BsmtFinType1\n",
            "1460 BsmtFinSF1\n",
            "1422 BsmtFinType2\n",
            "1460 BsmtFinSF2\n",
            "1460 BsmtUnfSF\n",
            "1460 TotalBsmtSF\n",
            "1460 Heating\n",
            "1460 HeatingQC\n",
            "1460 CentralAir\n",
            "1459 Electrical\n",
            "1460 1stFlrSF\n",
            "1460 2ndFlrSF\n",
            "1460 LowQualFinSF\n",
            "1460 GrLivArea\n",
            "1460 BsmtFullBath\n",
            "1460 BsmtHalfBath\n",
            "1460 FullBath\n",
            "1460 HalfBath\n",
            "1460 BedroomAbvGr\n",
            "1460 KitchenAbvGr\n",
            "1460 KitchenQual\n",
            "1460 TotRmsAbvGrd\n",
            "1460 Functional\n",
            "1460 Fireplaces\n",
            "770 FireplaceQu\n",
            "1379 GarageType\n",
            "1379 GarageYrBlt\n",
            "1379 GarageFinish\n",
            "1460 GarageCars\n",
            "1460 GarageArea\n",
            "1379 GarageQual\n",
            "1379 GarageCond\n",
            "1460 PavedDrive\n",
            "1460 WoodDeckSF\n",
            "1460 OpenPorchSF\n",
            "1460 EnclosedPorch\n",
            "1460 3SsnPorch\n",
            "1460 ScreenPorch\n",
            "1460 PoolArea\n",
            "7 PoolQC\n",
            "281 Fence\n",
            "54 MiscFeature\n",
            "1460 MiscVal\n",
            "1460 MoSold\n",
            "1460 YrSold\n",
            "1460 SaleType\n",
            "1460 SaleCondition\n",
            "1460 SalePrice\n",
            "1459 Id\n",
            "1459 MSSubClass\n",
            "1455 MSZoning\n",
            "1232 LotFrontage\n",
            "1459 LotArea\n",
            "1459 Street\n",
            "107 Alley\n",
            "1459 LotShape\n",
            "1459 LandContour\n",
            "1457 Utilities\n",
            "1459 LotConfig\n",
            "1459 LandSlope\n",
            "1459 Neighborhood\n",
            "1459 Condition1\n",
            "1459 Condition2\n",
            "1459 BldgType\n",
            "1459 HouseStyle\n",
            "1459 OverallQual\n",
            "1459 OverallCond\n",
            "1459 YearBuilt\n",
            "1459 YearRemodAdd\n",
            "1459 RoofStyle\n",
            "1459 RoofMatl\n",
            "1458 Exterior1st\n",
            "1458 Exterior2nd\n",
            "565 MasVnrType\n",
            "1444 MasVnrArea\n",
            "1459 ExterQual\n",
            "1459 ExterCond\n",
            "1459 Foundation\n",
            "1415 BsmtQual\n",
            "1414 BsmtCond\n",
            "1415 BsmtExposure\n",
            "1417 BsmtFinType1\n",
            "1458 BsmtFinSF1\n",
            "1417 BsmtFinType2\n",
            "1458 BsmtFinSF2\n",
            "1458 BsmtUnfSF\n",
            "1458 TotalBsmtSF\n",
            "1459 Heating\n",
            "1459 HeatingQC\n",
            "1459 CentralAir\n",
            "1459 Electrical\n",
            "1459 1stFlrSF\n",
            "1459 2ndFlrSF\n",
            "1459 LowQualFinSF\n",
            "1459 GrLivArea\n",
            "1457 BsmtFullBath\n",
            "1457 BsmtHalfBath\n",
            "1459 FullBath\n",
            "1459 HalfBath\n",
            "1459 BedroomAbvGr\n",
            "1459 KitchenAbvGr\n",
            "1458 KitchenQual\n",
            "1459 TotRmsAbvGrd\n",
            "1457 Functional\n",
            "1459 Fireplaces\n",
            "729 FireplaceQu\n",
            "1383 GarageType\n",
            "1381 GarageYrBlt\n",
            "1381 GarageFinish\n",
            "1458 GarageCars\n",
            "1458 GarageArea\n",
            "1381 GarageQual\n",
            "1381 GarageCond\n",
            "1459 PavedDrive\n",
            "1459 WoodDeckSF\n",
            "1459 OpenPorchSF\n",
            "1459 EnclosedPorch\n",
            "1459 3SsnPorch\n",
            "1459 ScreenPorch\n",
            "1459 PoolArea\n",
            "3 PoolQC\n",
            "290 Fence\n",
            "51 MiscFeature\n",
            "1459 MiscVal\n",
            "1459 MoSold\n",
            "1459 YrSold\n",
            "1458 SaleType\n",
            "1459 SaleCondition\n"
          ]
        }
      ]
    },
    {
      "cell_type": "markdown",
      "source": [
        "We decided to drop a lot of data. We had like 1460 observations and decided to drop entire columns which had less than 1400 observation. This was our cutoff point.\n",
        "All columns which had more than 1400 observations but less than 1460 we dropped the rows with missing values. This left us with 69 columns instead of 81 and 1412 observations instead of 1460."
      ],
      "metadata": {
        "id": "JTuI9EJp5E75"
      }
    },
    {
      "cell_type": "code",
      "source": [
        "#FILTERING IT BY <700 => drop, >700&<1469 => dropna,\n",
        "#When fillna is used, pandas automatically encodes the data\n",
        "df_train_filtered = df_train\n",
        "df_test_filtered = df_test\n",
        "\n",
        "for x in columns:\n",
        "    if df_train[x].count() < 700:\n",
        "      df_train_filtered = df_train_filtered.drop(x, axis=1)\n",
        "    elif pd.api.types.is_object_dtype(df_train[x]) or pd.api.types.is_string_dtype(df_train[x]):\n",
        "      df_train_filtered[x] = df_train_filtered[x].fillna(df_train_filtered[x].mode()[0])\n",
        "    elif pd.api.types.is_numeric_dtype(df_train[x]):\n",
        "      df_train_filtered[x] = df_train_filtered[x].fillna(int(round(df_train_filtered[x].mean())))\n",
        "\n",
        "for y in columns_test:\n",
        "    if df_test[y].count() < 700:\n",
        "      df_test_filtered = df_test_filtered.drop(y, axis=1)\n",
        "    elif pd.api.types.is_object_dtype(df_test[y]) or pd.api.types.is_string_dtype(df_test[y]):\n",
        "      df_test_filtered[y] = df_test_filtered[y].fillna(df_test_filtered[y].mode()[0])\n",
        "    elif pd.api.types.is_numeric_dtype(df_test[y]):\n",
        "      df_test_filtered[y] = df_test_filtered[y].fillna(int(round(df_test_filtered[y].mean())))\n",
        "\n",
        "df_train_filtered.drop('Id', axis=1, inplace=True)\n",
        "df_test_filtered.drop('Id', axis=1, inplace=True)\n",
        "\n",
        "combined_data = pd.concat([df_train_filtered.drop('SalePrice', axis = 1), df_test_filtered], axis=0)\n",
        "combined_data_encoded = pd.get_dummies(combined_data)"
      ],
      "metadata": {
        "id": "JKBBnTRdqZcd"
      },
      "execution_count": null,
      "outputs": []
    },
    {
      "cell_type": "markdown",
      "source": [
        "# Making everything numerical\n"
      ],
      "metadata": {
        "id": "edzYE5Y_0FhS"
      }
    },
    {
      "cell_type": "code",
      "source": [
        "print(type(df_train_filtered[\"Id\"].iloc[0]))"
      ],
      "metadata": {
        "colab": {
          "base_uri": "https://localhost:8080/"
        },
        "id": "Cs9HWkqr19Dl",
        "outputId": "8440b7d1-08cc-4876-c4cd-ff5859b9d0a7"
      },
      "execution_count": null,
      "outputs": [
        {
          "output_type": "stream",
          "name": "stdout",
          "text": [
            "<class 'numpy.int64'>\n"
          ]
        }
      ]
    },
    {
      "cell_type": "markdown",
      "source": [
        "We made everything numerical, because that will be way easier to work with while making the machine learning models. This is done by filtering on unique values and then mapping the numerical values over the original database."
      ],
      "metadata": {
        "id": "_epoJkEJ55xc"
      }
    },
    {
      "cell_type": "code",
      "source": [
        "combined_data = pd.concat([df_train_filtered, df_test_filtered], axis=0)\n",
        "unique_dict = {}\n",
        "\n",
        "if \"Id\" in df_train_filtered.columns:\n",
        "  df_train_filtered = df_train_filtered.drop('Id', axis=1)\n",
        "if \"Id\" in df_test_filtered.columns:\n",
        "  df_test_filtered = df_test_filtered.drop('Id', axis=1)\n",
        "\n",
        "#making a unique values dictionary\n",
        "for x in combined_data.columns:\n",
        "    if pd.api.types.is_object_dtype(combined_data[x]) or pd.api.types.is_string_dtype(combined_data[x]):\n",
        "        unique_dict[x] = combined_data[x].unique().tolist()\n",
        "\n",
        "print(unique_dict)\n",
        "\n",
        "encoded_dict = {}\n",
        "#encoded_dict_test = {}\n",
        "\n",
        "#encoding numerical values for each unique item in the dictionary\n",
        "for col, values in unique_dict.items():\n",
        "    encoded_dict[col] = {val: i for i, val in enumerate(values)}\n",
        "\n",
        "print(encoded_dict)\n",
        "\n",
        "#overmapping it\n",
        "for col, mapping in encoded_dict.items():\n",
        "    df_train_filtered[col] = df_train_filtered[col].map(mapping)\n",
        "    df_test_filtered[col] = df_test_filtered[col].map(mapping)\n",
        "\n",
        "df_train_filtered = df_train_filtered.fillna(0)\n",
        "df_test_filtered = df_test_filtered.fillna(0)\n",
        "\n",
        "print(df_train_filtered.head())\n",
        "print(df_test_filtered.head())"
      ],
      "metadata": {
        "colab": {
          "base_uri": "https://localhost:8080/"
        },
        "id": "ohXngAt20XDx",
        "outputId": "05d31030-5223-4d89-89c3-2963c75300b1",
        "collapsed": true
      },
      "execution_count": null,
      "outputs": [
        {
          "output_type": "stream",
          "name": "stdout",
          "text": [
            "{'MSZoning': ['RL', 'RM', 'C (all)', 'FV', 'RH'], 'Street': ['Pave', 'Grvl'], 'LotShape': ['Reg', 'IR1', 'IR2', 'IR3'], 'LandContour': ['Lvl', 'Bnk', 'Low', 'HLS'], 'Utilities': ['AllPub', 'NoSeWa'], 'LotConfig': ['Inside', 'FR2', 'Corner', 'CulDSac', 'FR3'], 'LandSlope': ['Gtl', 'Mod', 'Sev'], 'Neighborhood': ['CollgCr', 'Veenker', 'Crawfor', 'NoRidge', 'Mitchel', 'Somerst', 'NWAmes', 'OldTown', 'BrkSide', 'Sawyer', 'NridgHt', 'NAmes', 'SawyerW', 'IDOTRR', 'MeadowV', 'Edwards', 'Timber', 'Gilbert', 'StoneBr', 'ClearCr', 'NPkVill', 'Blmngtn', 'BrDale', 'SWISU', 'Blueste'], 'Condition1': ['Norm', 'Feedr', 'PosN', 'Artery', 'RRAe', 'RRNn', 'RRAn', 'PosA', 'RRNe'], 'Condition2': ['Norm', 'Artery', 'RRNn', 'Feedr', 'PosN', 'PosA', 'RRAn', 'RRAe'], 'BldgType': ['1Fam', '2fmCon', 'Duplex', 'TwnhsE', 'Twnhs'], 'HouseStyle': ['2Story', '1Story', '1.5Fin', '1.5Unf', 'SFoyer', 'SLvl', '2.5Unf', '2.5Fin'], 'RoofStyle': ['Gable', 'Hip', 'Gambrel', 'Mansard', 'Flat', 'Shed'], 'RoofMatl': ['CompShg', 'WdShngl', 'Metal', 'WdShake', 'Membran', 'Tar&Grv', 'Roll', 'ClyTile'], 'Exterior1st': ['VinylSd', 'MetalSd', 'Wd Sdng', 'HdBoard', 'BrkFace', 'WdShing', 'CemntBd', 'Plywood', 'AsbShng', 'Stucco', 'BrkComm', 'AsphShn', 'Stone', 'ImStucc', 'CBlock'], 'Exterior2nd': ['VinylSd', 'MetalSd', 'Wd Shng', 'HdBoard', 'Plywood', 'Wd Sdng', 'CmentBd', 'BrkFace', 'Stucco', 'AsbShng', 'Brk Cmn', 'ImStucc', 'AsphShn', 'Stone', 'Other', 'CBlock'], 'ExterQual': ['Gd', 'TA', 'Ex', 'Fa'], 'ExterCond': ['TA', 'Gd', 'Fa', 'Po', 'Ex'], 'Foundation': ['PConc', 'CBlock', 'BrkTil', 'Wood', 'Slab', 'Stone'], 'BsmtQual': ['Gd', 'TA', 'Ex', 'Fa'], 'BsmtCond': ['TA', 'Gd', 'Fa', 'Po'], 'BsmtExposure': ['No', 'Gd', 'Mn', 'Av'], 'BsmtFinType1': ['GLQ', 'ALQ', 'Unf', 'Rec', 'BLQ', 'LwQ'], 'BsmtFinType2': ['Unf', 'BLQ', 'ALQ', 'Rec', 'LwQ', 'GLQ'], 'Heating': ['GasA', 'GasW', 'Grav', 'Wall', 'OthW', 'Floor'], 'HeatingQC': ['Ex', 'Gd', 'TA', 'Fa', 'Po'], 'CentralAir': ['Y', 'N'], 'Electrical': ['SBrkr', 'FuseF', 'FuseA', 'FuseP', 'Mix'], 'KitchenQual': ['Gd', 'TA', 'Ex', 'Fa'], 'Functional': ['Typ', 'Min1', 'Maj1', 'Min2', 'Mod', 'Maj2', 'Sev'], 'FireplaceQu': ['Gd', 'TA', 'Fa', 'Ex', 'Po'], 'GarageType': ['Attchd', 'Detchd', 'BuiltIn', 'CarPort', 'Basment', '2Types'], 'GarageFinish': ['RFn', 'Unf', 'Fin'], 'GarageQual': ['TA', 'Fa', 'Gd', 'Ex', 'Po'], 'GarageCond': ['TA', 'Fa', 'Gd', 'Po', 'Ex'], 'PavedDrive': ['Y', 'N', 'P'], 'SaleType': ['WD', 'New', 'COD', 'ConLD', 'ConLI', 'CWD', 'ConLw', 'Con', 'Oth'], 'SaleCondition': ['Normal', 'Abnorml', 'Partial', 'AdjLand', 'Alloca', 'Family']}\n",
            "{'MSZoning': {'RL': 0, 'RM': 1, 'C (all)': 2, 'FV': 3, 'RH': 4}, 'Street': {'Pave': 0, 'Grvl': 1}, 'LotShape': {'Reg': 0, 'IR1': 1, 'IR2': 2, 'IR3': 3}, 'LandContour': {'Lvl': 0, 'Bnk': 1, 'Low': 2, 'HLS': 3}, 'Utilities': {'AllPub': 0, 'NoSeWa': 1}, 'LotConfig': {'Inside': 0, 'FR2': 1, 'Corner': 2, 'CulDSac': 3, 'FR3': 4}, 'LandSlope': {'Gtl': 0, 'Mod': 1, 'Sev': 2}, 'Neighborhood': {'CollgCr': 0, 'Veenker': 1, 'Crawfor': 2, 'NoRidge': 3, 'Mitchel': 4, 'Somerst': 5, 'NWAmes': 6, 'OldTown': 7, 'BrkSide': 8, 'Sawyer': 9, 'NridgHt': 10, 'NAmes': 11, 'SawyerW': 12, 'IDOTRR': 13, 'MeadowV': 14, 'Edwards': 15, 'Timber': 16, 'Gilbert': 17, 'StoneBr': 18, 'ClearCr': 19, 'NPkVill': 20, 'Blmngtn': 21, 'BrDale': 22, 'SWISU': 23, 'Blueste': 24}, 'Condition1': {'Norm': 0, 'Feedr': 1, 'PosN': 2, 'Artery': 3, 'RRAe': 4, 'RRNn': 5, 'RRAn': 6, 'PosA': 7, 'RRNe': 8}, 'Condition2': {'Norm': 0, 'Artery': 1, 'RRNn': 2, 'Feedr': 3, 'PosN': 4, 'PosA': 5, 'RRAn': 6, 'RRAe': 7}, 'BldgType': {'1Fam': 0, '2fmCon': 1, 'Duplex': 2, 'TwnhsE': 3, 'Twnhs': 4}, 'HouseStyle': {'2Story': 0, '1Story': 1, '1.5Fin': 2, '1.5Unf': 3, 'SFoyer': 4, 'SLvl': 5, '2.5Unf': 6, '2.5Fin': 7}, 'RoofStyle': {'Gable': 0, 'Hip': 1, 'Gambrel': 2, 'Mansard': 3, 'Flat': 4, 'Shed': 5}, 'RoofMatl': {'CompShg': 0, 'WdShngl': 1, 'Metal': 2, 'WdShake': 3, 'Membran': 4, 'Tar&Grv': 5, 'Roll': 6, 'ClyTile': 7}, 'Exterior1st': {'VinylSd': 0, 'MetalSd': 1, 'Wd Sdng': 2, 'HdBoard': 3, 'BrkFace': 4, 'WdShing': 5, 'CemntBd': 6, 'Plywood': 7, 'AsbShng': 8, 'Stucco': 9, 'BrkComm': 10, 'AsphShn': 11, 'Stone': 12, 'ImStucc': 13, 'CBlock': 14}, 'Exterior2nd': {'VinylSd': 0, 'MetalSd': 1, 'Wd Shng': 2, 'HdBoard': 3, 'Plywood': 4, 'Wd Sdng': 5, 'CmentBd': 6, 'BrkFace': 7, 'Stucco': 8, 'AsbShng': 9, 'Brk Cmn': 10, 'ImStucc': 11, 'AsphShn': 12, 'Stone': 13, 'Other': 14, 'CBlock': 15}, 'ExterQual': {'Gd': 0, 'TA': 1, 'Ex': 2, 'Fa': 3}, 'ExterCond': {'TA': 0, 'Gd': 1, 'Fa': 2, 'Po': 3, 'Ex': 4}, 'Foundation': {'PConc': 0, 'CBlock': 1, 'BrkTil': 2, 'Wood': 3, 'Slab': 4, 'Stone': 5}, 'BsmtQual': {'Gd': 0, 'TA': 1, 'Ex': 2, 'Fa': 3}, 'BsmtCond': {'TA': 0, 'Gd': 1, 'Fa': 2, 'Po': 3}, 'BsmtExposure': {'No': 0, 'Gd': 1, 'Mn': 2, 'Av': 3}, 'BsmtFinType1': {'GLQ': 0, 'ALQ': 1, 'Unf': 2, 'Rec': 3, 'BLQ': 4, 'LwQ': 5}, 'BsmtFinType2': {'Unf': 0, 'BLQ': 1, 'ALQ': 2, 'Rec': 3, 'LwQ': 4, 'GLQ': 5}, 'Heating': {'GasA': 0, 'GasW': 1, 'Grav': 2, 'Wall': 3, 'OthW': 4, 'Floor': 5}, 'HeatingQC': {'Ex': 0, 'Gd': 1, 'TA': 2, 'Fa': 3, 'Po': 4}, 'CentralAir': {'Y': 0, 'N': 1}, 'Electrical': {'SBrkr': 0, 'FuseF': 1, 'FuseA': 2, 'FuseP': 3, 'Mix': 4}, 'KitchenQual': {'Gd': 0, 'TA': 1, 'Ex': 2, 'Fa': 3}, 'Functional': {'Typ': 0, 'Min1': 1, 'Maj1': 2, 'Min2': 3, 'Mod': 4, 'Maj2': 5, 'Sev': 6}, 'FireplaceQu': {'Gd': 0, 'TA': 1, 'Fa': 2, 'Ex': 3, 'Po': 4}, 'GarageType': {'Attchd': 0, 'Detchd': 1, 'BuiltIn': 2, 'CarPort': 3, 'Basment': 4, '2Types': 5}, 'GarageFinish': {'RFn': 0, 'Unf': 1, 'Fin': 2}, 'GarageQual': {'TA': 0, 'Fa': 1, 'Gd': 2, 'Ex': 3, 'Po': 4}, 'GarageCond': {'TA': 0, 'Fa': 1, 'Gd': 2, 'Po': 3, 'Ex': 4}, 'PavedDrive': {'Y': 0, 'N': 1, 'P': 2}, 'SaleType': {'WD': 0, 'New': 1, 'COD': 2, 'ConLD': 3, 'ConLI': 4, 'CWD': 5, 'ConLw': 6, 'Con': 7, 'Oth': 8}, 'SaleCondition': {'Normal': 0, 'Abnorml': 1, 'Partial': 2, 'AdjLand': 3, 'Alloca': 4, 'Family': 5}}\n",
            "   MSSubClass  MSZoning  LotFrontage  LotArea  Street  LotShape  LandContour  \\\n",
            "0          60         0         65.0     8450       0         0            0   \n",
            "1          20         0         80.0     9600       0         0            0   \n",
            "2          60         0         68.0    11250       0         1            0   \n",
            "3          70         0         60.0     9550       0         1            0   \n",
            "4          60         0         84.0    14260       0         1            0   \n",
            "\n",
            "   Utilities  LotConfig  LandSlope  ...  EnclosedPorch  3SsnPorch  \\\n",
            "0          0          0          0  ...              0          0   \n",
            "1          0          1          0  ...              0          0   \n",
            "2          0          0          0  ...              0          0   \n",
            "3          0          2          0  ...            272          0   \n",
            "4          0          1          0  ...              0          0   \n",
            "\n",
            "   ScreenPorch  PoolArea  MiscVal  MoSold  YrSold  SaleType  SaleCondition  \\\n",
            "0            0         0        0       2    2008         0              0   \n",
            "1            0         0        0       5    2007         0              0   \n",
            "2            0         0        0       9    2008         0              0   \n",
            "3            0         0        0       2    2006         0              1   \n",
            "4            0         0        0      12    2008         0              0   \n",
            "\n",
            "   SalePrice  \n",
            "0     208500  \n",
            "1     181500  \n",
            "2     223500  \n",
            "3     140000  \n",
            "4     250000  \n",
            "\n",
            "[5 rows x 75 columns]\n",
            "   MSSubClass  MSZoning  LotFrontage  LotArea  Street  LotShape  LandContour  \\\n",
            "0          20         4         80.0    11622       0         0            0   \n",
            "1          20         0         81.0    14267       0         1            0   \n",
            "2          60         0         74.0    13830       0         1            0   \n",
            "3          60         0         78.0     9978       0         1            0   \n",
            "4         120         0         43.0     5005       0         1            3   \n",
            "\n",
            "   Utilities  LotConfig  LandSlope  ...  OpenPorchSF  EnclosedPorch  \\\n",
            "0          0          0          0  ...            0              0   \n",
            "1          0          2          0  ...           36              0   \n",
            "2          0          0          0  ...           34              0   \n",
            "3          0          0          0  ...           36              0   \n",
            "4          0          0          0  ...           82              0   \n",
            "\n",
            "   3SsnPorch  ScreenPorch  PoolArea  MiscVal  MoSold  YrSold  SaleType  \\\n",
            "0          0          120         0        0       6    2010         0   \n",
            "1          0            0         0    12500       6    2010         0   \n",
            "2          0            0         0        0       3    2010         0   \n",
            "3          0            0         0        0       6    2010         0   \n",
            "4          0          144         0        0       1    2010         0   \n",
            "\n",
            "   SaleCondition  \n",
            "0              0  \n",
            "1              0  \n",
            "2              0  \n",
            "3              0  \n",
            "4              0  \n",
            "\n",
            "[5 rows x 74 columns]\n"
          ]
        }
      ]
    },
    {
      "cell_type": "code",
      "source": [
        "#Working on removing outliers, currently commented out due to logical misunderstandings\n",
        "#Detecting Outliers (not working right, wrong thought process)\n",
        "\"\"\"\n",
        "df_temp = df_train_filtered.copy()\n",
        "\n",
        "for x in df_temp.columns:\n",
        "  if pd.api.types.is_numeric_dtype(df_temp[x]):\n",
        "    if df_temp[x].skew() < -1 or df_temp[x].skew() > 1:\n",
        "      df_temp[x] = np.log1p(df_temp[x])\n",
        "\n",
        "    z_score = stats.zscore(df_temp[x].dropna())\n",
        "    outliers = df_temp.loc[df_temp[x].dropna().index[np.abs(z_score) > 3]].index\n",
        "    outlier_id.extend(outliers.tolist())\n",
        "\n",
        "#Flattening to ensure that all data are integers\n",
        "flat_outlier_ids = []\n",
        "\n",
        "for oid in outlier_id:\n",
        "    if isinstance(oid, (np.ndarray, pd.Index)):\n",
        "        flat_outlier_ids.extend(oid.tolist())\n",
        "    else:\n",
        "        flat_outlier_ids.append(oid)\n",
        "\n",
        "outlierz = list(set(flat_outlier_ids))\n",
        "print(outlierz)\n",
        "print(f\"Total unique outliers: {len(outlierz)}\")\n",
        "\"\"\"\n",
        "\n",
        "#Removing outlier data, if a row has multiple outlier data\n",
        "\"\"\"\n",
        "row_counts = Counter(flat_outlier_ids)\n",
        "rows_to_remove = [row for row, count in row_counts.items() if count > 2]\n",
        "\n",
        "df_train_filtered = df_train_filtered.drop(index=rows_to_remove, errors=\"ignore\")\n",
        "print(len(rows_to_remove))\n",
        "\"\"\""
      ],
      "metadata": {
        "colab": {
          "base_uri": "https://localhost:8080/",
          "height": 70
        },
        "id": "Xf4OA7yAXMD8",
        "outputId": "5fdb92e9-31dd-4b4e-ad92-e3e698a4a930"
      },
      "execution_count": null,
      "outputs": [
        {
          "output_type": "execute_result",
          "data": {
            "text/plain": [
              "'\\nrow_counts = Counter(flat_outlier_ids)\\nrows_to_remove = [row for row, count in row_counts.items() if count > 2]\\n\\ndf_train_filtered = df_train_filtered.drop(index=rows_to_remove, errors=\"ignore\")\\nprint(len(rows_to_remove))\\n'"
            ],
            "application/vnd.google.colaboratory.intrinsic+json": {
              "type": "string"
            }
          },
          "metadata": {},
          "execution_count": 8
        }
      ]
    },
    {
      "cell_type": "markdown",
      "source": [
        "# Which model are we using?\n",
        "Right now, we are just trying to test a bunch of different models individually, nothing is concrete as of yet. We should be decided on and done optimizing the best model possible model by the next tutorial.\n",
        "\n",
        "Individually, the XGBoost gives the best result but it is still very insufficient. We could pipeline it to linear regression or attempt to PCA to reduce dimensionality and use neural networks before feeding into a PCA. But that is still theoretical. Outlier data is still pervasive, in the worst case, we can construxt individual scatter plots and flag outlier ids using a query."
      ],
      "metadata": {
        "id": "A_viH6ugtfow"
      }
    },
    {
      "cell_type": "code",
      "source": [
        "# Defining y and X\n",
        "y = df_train_filtered['SalePrice']\n",
        "X = combined_data_encoded[:len(df_train_filtered)]\n",
        "X_test = combined_data_encoded[len(df_train_filtered):]"
      ],
      "metadata": {
        "id": "dy0pv5Hb1tPp"
      },
      "execution_count": null,
      "outputs": []
    },
    {
      "cell_type": "code",
      "source": [
        "# Splitting data into test and validation set\n",
        "X_train, X_val, y_train, y_val = train_test_split(X,y,test_size=0.3, random_state=42)\n",
        "\n",
        "# Linear regression\n",
        "lr = LinearRegression()\n",
        "lr.fit(X_train,y_train)\n",
        "\n",
        "y_pred = lr.predict(X_val)\n",
        "res = y_val - y_pred\n",
        "\n",
        "#Residual plot (Visual test for non-linearity)\n",
        "plt.scatter(y_pred, res)\n",
        "plt.xlabel('Predicted Values')\n",
        "plt.ylabel('Residuals')\n",
        "plt.title('Residual Plot')\n",
        "plt.show()\n",
        "\n",
        "# Predict on training set\n",
        "y_pred_train = lr.predict(X_train)\n",
        "res_train = y_train - y_pred_train\n",
        "res_train = pd.Series(res_train, index=y_train.index)\n",
        "\n",
        "# Trying to find outliers here instead, we need it with relation to sale price\n",
        "# not just on its own\n",
        "threshold = 3 * np.std(res_train)\n",
        "LR_train_outliers = X_train[np.abs(res_train) > threshold]\n",
        "print(f\"Outliers from Linear Regression training model: {len(LR_train_outliers)}\")\n",
        "\n",
        "\n",
        "mse = mean_squared_error(y_val, y_pred)\n",
        "r2 = r2_score(y_val, y_pred)\n",
        "\n",
        "print(\"MSE: \", mse)\n",
        "print(math.sqrt(mse))\n",
        "print(\"R2: \", r2)\n",
        "print(max(y_pred))"
      ],
      "metadata": {
        "colab": {
          "base_uri": "https://localhost:8080/",
          "height": 559
        },
        "id": "b2ZoPqrx229C",
        "outputId": "1d161245-86ba-495e-e738-3b3a68cdfa68"
      },
      "execution_count": null,
      "outputs": [
        {
          "output_type": "display_data",
          "data": {
            "text/plain": [
              "<Figure size 640x480 with 1 Axes>"
            ],
            "image/png": "[encoded data removed]"
          },
          "metadata": {}
        },
        {
          "output_type": "stream",
          "name": "stdout",
          "text": [
            "Outliers from Linear Regression training model: 12\n",
            "MSE:  787998002.6194304\n",
            "28071.302118345535\n",
            "R2:  0.887075463641612\n",
            "568240.1552004658\n"
          ]
        }
      ]
    },
    {
      "cell_type": "code",
      "source": [
        "#Ridge regression\n",
        "param_grid = {'alpha': [0.001, 0.01, 0.1, 1, 10, 100, 1000]}\n",
        "ridge = Ridge()\n",
        "grid_search = GridSearchCV(ridge, param_grid, cv=5, scoring='neg_mean_squared_error')\n",
        "grid_search.fit(X_train, y_train)\n",
        "\n",
        "best_alpha = grid_search.best_params_['alpha']\n",
        "print(best_alpha)\n",
        "\n",
        "ridge_best = Ridge(alpha=best_alpha)\n",
        "ridge_best.fit(X_train, y_train)\n",
        "y_pred = ridge_best.predict(X_val)\n",
        "res = y_val - y_pred\n",
        "\n",
        "mse = mean_squared_error(y_val, y_pred)\n",
        "r2 = r2_score(y_val, y_pred)\n",
        "\n",
        "print(\"MSE: \", mse)\n",
        "print(math.sqrt(mse))\n",
        "print(\"R2: \", r2)"
      ],
      "metadata": {
        "colab": {
          "base_uri": "https://localhost:8080/"
        },
        "id": "EruFLCUiX-3J",
        "outputId": "98072d94-b55c-436e-cb09-91977ce78348"
      },
      "execution_count": null,
      "outputs": [
        {
          "output_type": "stream",
          "name": "stdout",
          "text": [
            "10\n",
            "MSE:  874952150.2936343\n",
            "29579.59009678184\n",
            "R2:  0.8746144462558986\n"
          ]
        }
      ]
    },
    {
      "cell_type": "code",
      "source": [
        "# Lasso Regression\n",
        "param_grid = {'alpha': [0.001, 0.01, 0.1, 1, 10, 100, 1000]}\n",
        "lasso = Lasso(max_iter=10000)\n",
        "grid_search = GridSearchCV(lasso, param_grid, cv=5, scoring='neg_mean_squared_error')\n",
        "grid_search.fit(X_train, y_train)\n",
        "\n",
        "best_alpha = grid_search.best_estimator_.alpha\n",
        "print(best_alpha)\n",
        "\n",
        "lasso_best = Lasso(alpha=best_alpha, max_iter=10000)\n",
        "lasso_best.fit(X_train, y_train)\n",
        "y_pred = lasso_best.predict(X_val)\n",
        "res = y_val - y_pred\n",
        "\n",
        "mse = mean_squared_error(y_val, y_pred)\n",
        "r2 = r2_score(y_val, y_pred)\n",
        "\n",
        "print(\"MSE: \", mse)\n",
        "print(math.sqrt(mse))\n",
        "print(\"R2: \", r2)"
      ],
      "metadata": {
        "colab": {
          "base_uri": "https://localhost:8080/"
        },
        "id": "PeVRERShYSx8",
        "outputId": "c7f33ba7-abaf-4884-c5a9-1689858ef832"
      },
      "execution_count": null,
      "outputs": [
        {
          "output_type": "stream",
          "name": "stderr",
          "text": [
            "/usr/local/lib/python3.11/dist-packages/sklearn/linear_model/_coordinate_descent.py:695: ConvergenceWarning: Objective did not converge. You might want to increase the number of iterations, check the scale of the features or consider increasing regularisation. Duality gap: 4.507e+10, tolerance: 4.742e+08\n",
            "  model = cd_fast.enet_coordinate_descent(\n",
            "/usr/local/lib/python3.11/dist-packages/sklearn/linear_model/_coordinate_descent.py:695: ConvergenceWarning: Objective did not converge. You might want to increase the number of iterations, check the scale of the features or consider increasing regularisation. Duality gap: 4.602e+10, tolerance: 4.840e+08\n",
            "  model = cd_fast.enet_coordinate_descent(\n",
            "/usr/local/lib/python3.11/dist-packages/sklearn/linear_model/_coordinate_descent.py:695: ConvergenceWarning: Objective did not converge. You might want to increase the number of iterations, check the scale of the features or consider increasing regularisation. Duality gap: 1.037e+11, tolerance: 4.842e+08\n",
            "  model = cd_fast.enet_coordinate_descent(\n",
            "/usr/local/lib/python3.11/dist-packages/sklearn/linear_model/_coordinate_descent.py:695: ConvergenceWarning: Objective did not converge. You might want to increase the number of iterations, check the scale of the features or consider increasing regularisation. Duality gap: 8.589e+10, tolerance: 5.063e+08\n",
            "  model = cd_fast.enet_coordinate_descent(\n",
            "/usr/local/lib/python3.11/dist-packages/sklearn/linear_model/_coordinate_descent.py:695: ConvergenceWarning: Objective did not converge. You might want to increase the number of iterations, check the scale of the features or consider increasing regularisation. Duality gap: 5.595e+10, tolerance: 5.113e+08\n",
            "  model = cd_fast.enet_coordinate_descent(\n",
            "/usr/local/lib/python3.11/dist-packages/sklearn/linear_model/_coordinate_descent.py:695: ConvergenceWarning: Objective did not converge. You might want to increase the number of iterations, check the scale of the features or consider increasing regularisation. Duality gap: 4.508e+10, tolerance: 4.742e+08\n",
            "  model = cd_fast.enet_coordinate_descent(\n",
            "/usr/local/lib/python3.11/dist-packages/sklearn/linear_model/_coordinate_descent.py:695: ConvergenceWarning: Objective did not converge. You might want to increase the number of iterations, check the scale of the features or consider increasing regularisation. Duality gap: 3.681e+10, tolerance: 4.840e+08\n",
            "  model = cd_fast.enet_coordinate_descent(\n",
            "/usr/local/lib/python3.11/dist-packages/sklearn/linear_model/_coordinate_descent.py:695: ConvergenceWarning: Objective did not converge. You might want to increase the number of iterations, check the scale of the features or consider increasing regularisation. Duality gap: 2.535e+10, tolerance: 4.842e+08\n",
            "  model = cd_fast.enet_coordinate_descent(\n",
            "/usr/local/lib/python3.11/dist-packages/sklearn/linear_model/_coordinate_descent.py:695: ConvergenceWarning: Objective did not converge. You might want to increase the number of iterations, check the scale of the features or consider increasing regularisation. Duality gap: 1.124e+11, tolerance: 5.063e+08\n",
            "  model = cd_fast.enet_coordinate_descent(\n",
            "/usr/local/lib/python3.11/dist-packages/sklearn/linear_model/_coordinate_descent.py:695: ConvergenceWarning: Objective did not converge. You might want to increase the number of iterations, check the scale of the features or consider increasing regularisation. Duality gap: 1.006e+11, tolerance: 5.113e+08\n",
            "  model = cd_fast.enet_coordinate_descent(\n",
            "/usr/local/lib/python3.11/dist-packages/sklearn/linear_model/_coordinate_descent.py:695: ConvergenceWarning: Objective did not converge. You might want to increase the number of iterations, check the scale of the features or consider increasing regularisation. Duality gap: 1.149e+11, tolerance: 5.063e+08\n",
            "  model = cd_fast.enet_coordinate_descent(\n"
          ]
        },
        {
          "output_type": "stream",
          "name": "stdout",
          "text": [
            "100\n",
            "MSE:  714381230.7044878\n",
            "26727.91108007672\n",
            "R2:  0.897625160225946\n"
          ]
        }
      ]
    },
    {
      "cell_type": "code",
      "source": [
        "# Random Forest regression\n",
        "regression = RandomForestRegressor()\n",
        "regression.fit(X_train,y_train)\n",
        "y_pred = regression.predict(X_val)\n",
        "res = y_val - y_pred\n",
        "\n",
        "mse = mean_squared_error(y_val, y_pred)\n",
        "r2 = r2_score(y_val, y_pred)\n",
        "\n",
        "print(\"MSE: \", mse)\n",
        "print(math.sqrt(mse))\n",
        "print(\"R2: \", r2)"
      ],
      "metadata": {
        "colab": {
          "base_uri": "https://localhost:8080/"
        },
        "id": "HLKg6GwnYYRe",
        "outputId": "c6c11c4d-cdbe-432d-899b-cfc55470755e"
      },
      "execution_count": null,
      "outputs": [
        {
          "output_type": "stream",
          "name": "stdout",
          "text": [
            "MSE:  720483690.0279164\n",
            "26841.82724830626\n",
            "R2:  0.8967506435552776\n"
          ]
        }
      ]
    },
    {
      "cell_type": "code",
      "source": [
        "# XGBoost\n",
        "xgb = XGBRegressor()\n",
        "xgb.fit(X_train, y_train)\n",
        "y_pred = xgb.predict(X_val)\n",
        "res = y_val - y_pred\n",
        "residuals = pd.Series(res, index=y_val.index)\n",
        "\n",
        "# Predict on training data\n",
        "y_pred_train = xgb.predict(X_train)\n",
        "res_train = y_train - y_pred_train\n",
        "residuals_train = pd.Series(res_train, index=y_train.index)\n",
        "\n",
        "# Flag training outliers\n",
        "threshold = 3 * np.std(residuals_train)\n",
        "train_outliers = X_train[np.abs(residuals_train) > threshold]\n",
        "print(f\"Outliers from XGBoost training model: {len(train_outliers)}\")\n",
        "\n",
        "# Flag outliers\n",
        "threshold = 3 * np.std(residuals)\n",
        "outliers = X_val[np.abs(residuals) > threshold]\n",
        "print(f\"Outliers from XGBoost validation model: {len(outliers)}\")\n",
        "\n",
        "mse = mean_squared_error(y_val, y_pred)\n",
        "r2 = r2_score(y_val, y_pred)\n",
        "\n",
        "print(\"MSE: \", mse)\n",
        "print(math.sqrt(mse))\n",
        "print(\"R2: \", r2)\n",
        "\n",
        "plt.scatter(y_pred, res)\n",
        "plt.xlabel('Predicted Values')\n",
        "plt.ylabel('Residuals')\n",
        "plt.title('Residual Plot')\n",
        "plt.show()"
      ],
      "metadata": {
        "colab": {
          "base_uri": "https://localhost:8080/",
          "height": 559
        },
        "id": "ywlkz7JGYdpo",
        "outputId": "ca22f9bb-a64c-4e2a-ad3a-2b3009756bb0"
      },
      "execution_count": null,
      "outputs": [
        {
          "output_type": "stream",
          "name": "stdout",
          "text": [
            "Outliers from XGBoost training model: 17\n",
            "Outliers from XGBoost validation model: 9\n",
            "MSE:  724296384.0\n",
            "26912.75504291599\n",
            "R2:  0.8962042331695557\n"
          ]
        },
        {
          "output_type": "display_data",
          "data": {
            "text/plain": [
              "<Figure size 640x480 with 1 Axes>"
            ],
            "image/png": "[encoded data removed]"
          },
          "metadata": {}
        }
      ]
    }
  ]
}