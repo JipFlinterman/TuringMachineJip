{
  "cells": [
    {
      "cell_type": "markdown",
      "metadata": {
        "id": "view-in-github",
        "colab_type": "text"
      },
      "source": [
        "<a href=\"https://colab.research.google.com/github/JipFlinterman/TuringMachineJip/blob/main/TMDL_2024_25_Assignment_3%2C_Qs_only.ipynb\" target=\"_parent\"><img src=\"https://colab.research.google.com/assets/colab-badge.svg\" alt=\"Open In Colab\"/></a>"
      ]
    },
    {
      "cell_type": "markdown",
      "id": "43554d37",
      "metadata": {
        "id": "43554d37"
      },
      "source": [
        "# Turing Machine and Deep Learning 2023\n",
        "\n",
        "## Assignment Unupervised ML\n",
        "\n",
        "This notebook is meant for you to review and reflect on the content of Lecture 3, which was mainly about unsupervised learning problems. As with last week, this notebook should not be too much quantitative work (lines of code) but keep in mind that running this notebook may take a longer time than you may be used to for python programs (*training good models take time!*)\n",
        "\n",
        "### Handing in your Assignment\n",
        "\n",
        "Git is an invaluable resource to researchers and developers, and thus for this course, all course material will be (additionally) shared on GitHub. Though there is a tiny bit of a learning curve, this is worth the effort. To hand in your assignment (applicable to all weeks):\n",
        "\n",
        "1. Create a folder called \"Week 2\" and copy this notebook and any other files or data that may be needed.\n",
        "2. Finish the notebook and commit and push regularly. Your final commit before the deadline will be graded.\n",
        "\n",
        "\n",
        "### Grading\n",
        "\n",
        "Each one of the (sub-)questions below will be graded either 0 (insufficient), 1 (sufficient) or 2 (good). If $N$ is the number of sub-questions, and $p_i$ is your score for sub-question $i$, your total grade $G$ for this assignment is:\n",
        "$$G=\\frac{1}{2 N}\\sum_{i=0}^{N}p_i$$"
      ]
    },
    {
      "cell_type": "code",
      "execution_count": 6,
      "id": "52fbab8b",
      "metadata": {
        "id": "52fbab8b"
      },
      "outputs": [],
      "source": [
        "# load common libraries\n",
        "import numpy as np                 # maths\n",
        "import matplotlib.pyplot as plt    # plotting\n",
        "import pandas as pd                # data manipulation\n",
        "from tqdm import tqdm              # loading bar\n",
        "from time import perf_counter      # timer"
      ]
    },
    {
      "cell_type": "markdown",
      "id": "bf4c3a0a",
      "metadata": {
        "id": "bf4c3a0a"
      },
      "source": [
        "# Q1 Loading and preprocessing data\n",
        "\n",
        "In this repository, you should find a file called `tmdb_5000_movies.csv` which is information from a subset of movies on The Movie Database."
      ]
    },
    {
      "cell_type": "markdown",
      "id": "40715541",
      "metadata": {
        "id": "40715541"
      },
      "source": [
        "### Q.1.1\n",
        "Use pandas to read in the csv file (refer to [read_csv](https://pandas.pydata.org/docs/reference/api/pandas.read_csv.html) if you're unfamiliar)."
      ]
    },
    {
      "cell_type": "code",
      "execution_count": 7,
      "id": "c10a5202",
      "metadata": {
        "id": "c10a5202",
        "colab": {
          "base_uri": "https://localhost:8080/",
          "height": 1000
        },
        "outputId": "9a221774-35d6-4f83-a96d-1cdd65e5f9ca"
      },
      "outputs": [
        {
          "output_type": "execute_result",
          "data": {
            "text/plain": [
              "         budget                                             genres  \\\n",
              "0     237000000  [{\"id\": 28, \"name\": \"Action\"}, {\"id\": 12, \"nam...   \n",
              "1     300000000  [{\"id\": 12, \"name\": \"Adventure\"}, {\"id\": 14, \"...   \n",
              "2     245000000  [{\"id\": 28, \"name\": \"Action\"}, {\"id\": 12, \"nam...   \n",
              "3     250000000  [{\"id\": 28, \"name\": \"Action\"}, {\"id\": 80, \"nam...   \n",
              "4     260000000  [{\"id\": 28, \"name\": \"Action\"}, {\"id\": 12, \"nam...   \n",
              "...         ...                                                ...   \n",
              "4798     220000  [{\"id\": 28, \"name\": \"Action\"}, {\"id\": 80, \"nam...   \n",
              "4799       9000  [{\"id\": 35, \"name\": \"Comedy\"}, {\"id\": 10749, \"...   \n",
              "4800          0  [{\"id\": 35, \"name\": \"Comedy\"}, {\"id\": 18, \"nam...   \n",
              "4801          0                                                 []   \n",
              "4802          0                [{\"id\": 99, \"name\": \"Documentary\"}]   \n",
              "\n",
              "                                               homepage      id  \\\n",
              "0                           http://www.avatarmovie.com/   19995   \n",
              "1          http://disney.go.com/disneypictures/pirates/     285   \n",
              "2           http://www.sonypictures.com/movies/spectre/  206647   \n",
              "3                    http://www.thedarkknightrises.com/   49026   \n",
              "4                  http://movies.disney.com/john-carter   49529   \n",
              "...                                                 ...     ...   \n",
              "4798                                                NaN    9367   \n",
              "4799                                                NaN   72766   \n",
              "4800  http://www.hallmarkchannel.com/signedsealeddel...  231617   \n",
              "4801                        http://shanghaicalling.com/  126186   \n",
              "4802                                                NaN   25975   \n",
              "\n",
              "                                               keywords original_language  \\\n",
              "0     [{\"id\": 1463, \"name\": \"culture clash\"}, {\"id\":...                en   \n",
              "1     [{\"id\": 270, \"name\": \"ocean\"}, {\"id\": 726, \"na...                en   \n",
              "2     [{\"id\": 470, \"name\": \"spy\"}, {\"id\": 818, \"name...                en   \n",
              "3     [{\"id\": 849, \"name\": \"dc comics\"}, {\"id\": 853,...                en   \n",
              "4     [{\"id\": 818, \"name\": \"based on novel\"}, {\"id\":...                en   \n",
              "...                                                 ...               ...   \n",
              "4798  [{\"id\": 5616, \"name\": \"united states\\u2013mexi...                es   \n",
              "4799                                                 []                en   \n",
              "4800  [{\"id\": 248, \"name\": \"date\"}, {\"id\": 699, \"nam...                en   \n",
              "4801                                                 []                en   \n",
              "4802  [{\"id\": 1523, \"name\": \"obsession\"}, {\"id\": 224...                en   \n",
              "\n",
              "                                original_title  \\\n",
              "0                                       Avatar   \n",
              "1     Pirates of the Caribbean: At World's End   \n",
              "2                                      Spectre   \n",
              "3                        The Dark Knight Rises   \n",
              "4                                  John Carter   \n",
              "...                                        ...   \n",
              "4798                               El Mariachi   \n",
              "4799                                 Newlyweds   \n",
              "4800                 Signed, Sealed, Delivered   \n",
              "4801                          Shanghai Calling   \n",
              "4802                         My Date with Drew   \n",
              "\n",
              "                                               overview  popularity  \\\n",
              "0     In the 22nd century, a paraplegic Marine is di...  150.437577   \n",
              "1     Captain Barbossa, long believed to be dead, ha...  139.082615   \n",
              "2     A cryptic message from Bond’s past sends him o...  107.376788   \n",
              "3     Following the death of District Attorney Harve...  112.312950   \n",
              "4     John Carter is a war-weary, former military ca...   43.926995   \n",
              "...                                                 ...         ...   \n",
              "4798  El Mariachi just wants to play his guitar and ...   14.269792   \n",
              "4799  A newlywed couple's honeymoon is upended by th...    0.642552   \n",
              "4800  \"Signed, Sealed, Delivered\" introduces a dedic...    1.444476   \n",
              "4801  When ambitious New York attorney Sam is sent t...    0.857008   \n",
              "4802  Ever since the second grade when he first saw ...    1.929883   \n",
              "\n",
              "                                   production_companies  \\\n",
              "0     [{\"name\": \"Ingenious Film Partners\", \"id\": 289...   \n",
              "1     [{\"name\": \"Walt Disney Pictures\", \"id\": 2}, {\"...   \n",
              "2     [{\"name\": \"Columbia Pictures\", \"id\": 5}, {\"nam...   \n",
              "3     [{\"name\": \"Legendary Pictures\", \"id\": 923}, {\"...   \n",
              "4           [{\"name\": \"Walt Disney Pictures\", \"id\": 2}]   \n",
              "...                                                 ...   \n",
              "4798           [{\"name\": \"Columbia Pictures\", \"id\": 5}]   \n",
              "4799                                                 []   \n",
              "4800  [{\"name\": \"Front Street Pictures\", \"id\": 3958}...   \n",
              "4801                                                 []   \n",
              "4802  [{\"name\": \"rusty bear entertainment\", \"id\": 87...   \n",
              "\n",
              "                                   production_countries release_date  \\\n",
              "0     [{\"iso_3166_1\": \"US\", \"name\": \"United States o...   2009-12-10   \n",
              "1     [{\"iso_3166_1\": \"US\", \"name\": \"United States o...   2007-05-19   \n",
              "2     [{\"iso_3166_1\": \"GB\", \"name\": \"United Kingdom\"...   2015-10-26   \n",
              "3     [{\"iso_3166_1\": \"US\", \"name\": \"United States o...   2012-07-16   \n",
              "4     [{\"iso_3166_1\": \"US\", \"name\": \"United States o...   2012-03-07   \n",
              "...                                                 ...          ...   \n",
              "4798  [{\"iso_3166_1\": \"MX\", \"name\": \"Mexico\"}, {\"iso...   1992-09-04   \n",
              "4799                                                 []   2011-12-26   \n",
              "4800  [{\"iso_3166_1\": \"US\", \"name\": \"United States o...   2013-10-13   \n",
              "4801  [{\"iso_3166_1\": \"US\", \"name\": \"United States o...   2012-05-03   \n",
              "4802  [{\"iso_3166_1\": \"US\", \"name\": \"United States o...   2005-08-05   \n",
              "\n",
              "         revenue  runtime                                   spoken_languages  \\\n",
              "0     2787965087    162.0  [{\"iso_639_1\": \"en\", \"name\": \"English\"}, {\"iso...   \n",
              "1      961000000    169.0           [{\"iso_639_1\": \"en\", \"name\": \"English\"}]   \n",
              "2      880674609    148.0  [{\"iso_639_1\": \"fr\", \"name\": \"Fran\\u00e7ais\"},...   \n",
              "3     1084939099    165.0           [{\"iso_639_1\": \"en\", \"name\": \"English\"}]   \n",
              "4      284139100    132.0           [{\"iso_639_1\": \"en\", \"name\": \"English\"}]   \n",
              "...          ...      ...                                                ...   \n",
              "4798     2040920     81.0      [{\"iso_639_1\": \"es\", \"name\": \"Espa\\u00f1ol\"}]   \n",
              "4799           0     85.0                                                 []   \n",
              "4800           0    120.0           [{\"iso_639_1\": \"en\", \"name\": \"English\"}]   \n",
              "4801           0     98.0           [{\"iso_639_1\": \"en\", \"name\": \"English\"}]   \n",
              "4802           0     90.0           [{\"iso_639_1\": \"en\", \"name\": \"English\"}]   \n",
              "\n",
              "        status                                            tagline  \\\n",
              "0     Released                        Enter the World of Pandora.   \n",
              "1     Released     At the end of the world, the adventure begins.   \n",
              "2     Released                              A Plan No One Escapes   \n",
              "3     Released                                    The Legend Ends   \n",
              "4     Released               Lost in our world, found in another.   \n",
              "...        ...                                                ...   \n",
              "4798  Released  He didn't come looking for trouble, but troubl...   \n",
              "4799  Released  A newlywed couple's honeymoon is upended by th...   \n",
              "4800  Released                                                NaN   \n",
              "4801  Released                           A New Yorker in Shanghai   \n",
              "4802  Released                                                NaN   \n",
              "\n",
              "                                         title  vote_average  vote_count  \n",
              "0                                       Avatar           7.2       11800  \n",
              "1     Pirates of the Caribbean: At World's End           6.9        4500  \n",
              "2                                      Spectre           6.3        4466  \n",
              "3                        The Dark Knight Rises           7.6        9106  \n",
              "4                                  John Carter           6.1        2124  \n",
              "...                                        ...           ...         ...  \n",
              "4798                               El Mariachi           6.6         238  \n",
              "4799                                 Newlyweds           5.9           5  \n",
              "4800                 Signed, Sealed, Delivered           7.0           6  \n",
              "4801                          Shanghai Calling           5.7           7  \n",
              "4802                         My Date with Drew           6.3          16  \n",
              "\n",
              "[4803 rows x 20 columns]"
            ],
            "text/html": [
              "\n",
              "  <div id=\"df-78d5dabf-d03c-4b9c-8020-87dfae5dd837\" class=\"colab-df-container\">\n",
              "    <div>\n",
              "<style scoped>\n",
              "    .dataframe tbody tr th:only-of-type {\n",
              "        vertical-align: middle;\n",
              "    }\n",
              "\n",
              "    .dataframe tbody tr th {\n",
              "        vertical-align: top;\n",
              "    }\n",
              "\n",
              "    .dataframe thead th {\n",
              "        text-align: right;\n",
              "    }\n",
              "</style>\n",
              "<table border=\"1\" class=\"dataframe\">\n",
              "  <thead>\n",
              "    <tr style=\"text-align: right;\">\n",
              "      <th></th>\n",
              "      <th>budget</th>\n",
              "      <th>genres</th>\n",
              "      <th>homepage</th>\n",
              "      <th>id</th>\n",
              "      <th>keywords</th>\n",
              "      <th>original_language</th>\n",
              "      <th>original_title</th>\n",
              "      <th>overview</th>\n",
              "      <th>popularity</th>\n",
              "      <th>production_companies</th>\n",
              "      <th>production_countries</th>\n",
              "      <th>release_date</th>\n",
              "      <th>revenue</th>\n",
              "      <th>runtime</th>\n",
              "      <th>spoken_languages</th>\n",
              "      <th>status</th>\n",
              "      <th>tagline</th>\n",
              "      <th>title</th>\n",
              "      <th>vote_average</th>\n",
              "      <th>vote_count</th>\n",
              "    </tr>\n",
              "  </thead>\n",
              "  <tbody>\n",
              "    <tr>\n",
              "      <th>0</th>\n",
              "      <td>237000000</td>\n",
              "      <td>[{\"id\": 28, \"name\": \"Action\"}, {\"id\": 12, \"nam...</td>\n",
              "      <td>http://www.avatarmovie.com/</td>\n",
              "      <td>19995</td>\n",
              "      <td>[{\"id\": 1463, \"name\": \"culture clash\"}, {\"id\":...</td>\n",
              "      <td>en</td>\n",
              "      <td>Avatar</td>\n",
              "      <td>In the 22nd century, a paraplegic Marine is di...</td>\n",
              "      <td>150.437577</td>\n",
              "      <td>[{\"name\": \"Ingenious Film Partners\", \"id\": 289...</td>\n",
              "      <td>[{\"iso_3166_1\": \"US\", \"name\": \"United States o...</td>\n",
              "      <td>2009-12-10</td>\n",
              "      <td>2787965087</td>\n",
              "      <td>162.0</td>\n",
              "      <td>[{\"iso_639_1\": \"en\", \"name\": \"English\"}, {\"iso...</td>\n",
              "      <td>Released</td>\n",
              "      <td>Enter the World of Pandora.</td>\n",
              "      <td>Avatar</td>\n",
              "      <td>7.2</td>\n",
              "      <td>11800</td>\n",
              "    </tr>\n",
              "    <tr>\n",
              "      <th>1</th>\n",
              "      <td>300000000</td>\n",
              "      <td>[{\"id\": 12, \"name\": \"Adventure\"}, {\"id\": 14, \"...</td>\n",
              "      <td>http://disney.go.com/disneypictures/pirates/</td>\n",
              "      <td>285</td>\n",
              "      <td>[{\"id\": 270, \"name\": \"ocean\"}, {\"id\": 726, \"na...</td>\n",
              "      <td>en</td>\n",
              "      <td>Pirates of the Caribbean: At World's End</td>\n",
              "      <td>Captain Barbossa, long believed to be dead, ha...</td>\n",
              "      <td>139.082615</td>\n",
              "      <td>[{\"name\": \"Walt Disney Pictures\", \"id\": 2}, {\"...</td>\n",
              "      <td>[{\"iso_3166_1\": \"US\", \"name\": \"United States o...</td>\n",
              "      <td>2007-05-19</td>\n",
              "      <td>961000000</td>\n",
              "      <td>169.0</td>\n",
              "      <td>[{\"iso_639_1\": \"en\", \"name\": \"English\"}]</td>\n",
              "      <td>Released</td>\n",
              "      <td>At the end of the world, the adventure begins.</td>\n",
              "      <td>Pirates of the Caribbean: At World's End</td>\n",
              "      <td>6.9</td>\n",
              "      <td>4500</td>\n",
              "    </tr>\n",
              "    <tr>\n",
              "      <th>2</th>\n",
              "      <td>245000000</td>\n",
              "      <td>[{\"id\": 28, \"name\": \"Action\"}, {\"id\": 12, \"nam...</td>\n",
              "      <td>http://www.sonypictures.com/movies/spectre/</td>\n",
              "      <td>206647</td>\n",
              "      <td>[{\"id\": 470, \"name\": \"spy\"}, {\"id\": 818, \"name...</td>\n",
              "      <td>en</td>\n",
              "      <td>Spectre</td>\n",
              "      <td>A cryptic message from Bond’s past sends him o...</td>\n",
              "      <td>107.376788</td>\n",
              "      <td>[{\"name\": \"Columbia Pictures\", \"id\": 5}, {\"nam...</td>\n",
              "      <td>[{\"iso_3166_1\": \"GB\", \"name\": \"United Kingdom\"...</td>\n",
              "      <td>2015-10-26</td>\n",
              "      <td>880674609</td>\n",
              "      <td>148.0</td>\n",
              "      <td>[{\"iso_639_1\": \"fr\", \"name\": \"Fran\\u00e7ais\"},...</td>\n",
              "      <td>Released</td>\n",
              "      <td>A Plan No One Escapes</td>\n",
              "      <td>Spectre</td>\n",
              "      <td>6.3</td>\n",
              "      <td>4466</td>\n",
              "    </tr>\n",
              "    <tr>\n",
              "      <th>3</th>\n",
              "      <td>250000000</td>\n",
              "      <td>[{\"id\": 28, \"name\": \"Action\"}, {\"id\": 80, \"nam...</td>\n",
              "      <td>http://www.thedarkknightrises.com/</td>\n",
              "      <td>49026</td>\n",
              "      <td>[{\"id\": 849, \"name\": \"dc comics\"}, {\"id\": 853,...</td>\n",
              "      <td>en</td>\n",
              "      <td>The Dark Knight Rises</td>\n",
              "      <td>Following the death of District Attorney Harve...</td>\n",
              "      <td>112.312950</td>\n",
              "      <td>[{\"name\": \"Legendary Pictures\", \"id\": 923}, {\"...</td>\n",
              "      <td>[{\"iso_3166_1\": \"US\", \"name\": \"United States o...</td>\n",
              "      <td>2012-07-16</td>\n",
              "      <td>1084939099</td>\n",
              "      <td>165.0</td>\n",
              "      <td>[{\"iso_639_1\": \"en\", \"name\": \"English\"}]</td>\n",
              "      <td>Released</td>\n",
              "      <td>The Legend Ends</td>\n",
              "      <td>The Dark Knight Rises</td>\n",
              "      <td>7.6</td>\n",
              "      <td>9106</td>\n",
              "    </tr>\n",
              "    <tr>\n",
              "      <th>4</th>\n",
              "      <td>260000000</td>\n",
              "      <td>[{\"id\": 28, \"name\": \"Action\"}, {\"id\": 12, \"nam...</td>\n",
              "      <td>http://movies.disney.com/john-carter</td>\n",
              "      <td>49529</td>\n",
              "      <td>[{\"id\": 818, \"name\": \"based on novel\"}, {\"id\":...</td>\n",
              "      <td>en</td>\n",
              "      <td>John Carter</td>\n",
              "      <td>John Carter is a war-weary, former military ca...</td>\n",
              "      <td>43.926995</td>\n",
              "      <td>[{\"name\": \"Walt Disney Pictures\", \"id\": 2}]</td>\n",
              "      <td>[{\"iso_3166_1\": \"US\", \"name\": \"United States o...</td>\n",
              "      <td>2012-03-07</td>\n",
              "      <td>284139100</td>\n",
              "      <td>132.0</td>\n",
              "      <td>[{\"iso_639_1\": \"en\", \"name\": \"English\"}]</td>\n",
              "      <td>Released</td>\n",
              "      <td>Lost in our world, found in another.</td>\n",
              "      <td>John Carter</td>\n",
              "      <td>6.1</td>\n",
              "      <td>2124</td>\n",
              "    </tr>\n",
              "    <tr>\n",
              "      <th>...</th>\n",
              "      <td>...</td>\n",
              "      <td>...</td>\n",
              "      <td>...</td>\n",
              "      <td>...</td>\n",
              "      <td>...</td>\n",
              "      <td>...</td>\n",
              "      <td>...</td>\n",
              "      <td>...</td>\n",
              "      <td>...</td>\n",
              "      <td>...</td>\n",
              "      <td>...</td>\n",
              "      <td>...</td>\n",
              "      <td>...</td>\n",
              "      <td>...</td>\n",
              "      <td>...</td>\n",
              "      <td>...</td>\n",
              "      <td>...</td>\n",
              "      <td>...</td>\n",
              "      <td>...</td>\n",
              "      <td>...</td>\n",
              "    </tr>\n",
              "    <tr>\n",
              "      <th>4798</th>\n",
              "      <td>220000</td>\n",
              "      <td>[{\"id\": 28, \"name\": \"Action\"}, {\"id\": 80, \"nam...</td>\n",
              "      <td>NaN</td>\n",
              "      <td>9367</td>\n",
              "      <td>[{\"id\": 5616, \"name\": \"united states\\u2013mexi...</td>\n",
              "      <td>es</td>\n",
              "      <td>El Mariachi</td>\n",
              "      <td>El Mariachi just wants to play his guitar and ...</td>\n",
              "      <td>14.269792</td>\n",
              "      <td>[{\"name\": \"Columbia Pictures\", \"id\": 5}]</td>\n",
              "      <td>[{\"iso_3166_1\": \"MX\", \"name\": \"Mexico\"}, {\"iso...</td>\n",
              "      <td>1992-09-04</td>\n",
              "      <td>2040920</td>\n",
              "      <td>81.0</td>\n",
              "      <td>[{\"iso_639_1\": \"es\", \"name\": \"Espa\\u00f1ol\"}]</td>\n",
              "      <td>Released</td>\n",
              "      <td>He didn't come looking for trouble, but troubl...</td>\n",
              "      <td>El Mariachi</td>\n",
              "      <td>6.6</td>\n",
              "      <td>238</td>\n",
              "    </tr>\n",
              "    <tr>\n",
              "      <th>4799</th>\n",
              "      <td>9000</td>\n",
              "      <td>[{\"id\": 35, \"name\": \"Comedy\"}, {\"id\": 10749, \"...</td>\n",
              "      <td>NaN</td>\n",
              "      <td>72766</td>\n",
              "      <td>[]</td>\n",
              "      <td>en</td>\n",
              "      <td>Newlyweds</td>\n",
              "      <td>A newlywed couple's honeymoon is upended by th...</td>\n",
              "      <td>0.642552</td>\n",
              "      <td>[]</td>\n",
              "      <td>[]</td>\n",
              "      <td>2011-12-26</td>\n",
              "      <td>0</td>\n",
              "      <td>85.0</td>\n",
              "      <td>[]</td>\n",
              "      <td>Released</td>\n",
              "      <td>A newlywed couple's honeymoon is upended by th...</td>\n",
              "      <td>Newlyweds</td>\n",
              "      <td>5.9</td>\n",
              "      <td>5</td>\n",
              "    </tr>\n",
              "    <tr>\n",
              "      <th>4800</th>\n",
              "      <td>0</td>\n",
              "      <td>[{\"id\": 35, \"name\": \"Comedy\"}, {\"id\": 18, \"nam...</td>\n",
              "      <td>http://www.hallmarkchannel.com/signedsealeddel...</td>\n",
              "      <td>231617</td>\n",
              "      <td>[{\"id\": 248, \"name\": \"date\"}, {\"id\": 699, \"nam...</td>\n",
              "      <td>en</td>\n",
              "      <td>Signed, Sealed, Delivered</td>\n",
              "      <td>\"Signed, Sealed, Delivered\" introduces a dedic...</td>\n",
              "      <td>1.444476</td>\n",
              "      <td>[{\"name\": \"Front Street Pictures\", \"id\": 3958}...</td>\n",
              "      <td>[{\"iso_3166_1\": \"US\", \"name\": \"United States o...</td>\n",
              "      <td>2013-10-13</td>\n",
              "      <td>0</td>\n",
              "      <td>120.0</td>\n",
              "      <td>[{\"iso_639_1\": \"en\", \"name\": \"English\"}]</td>\n",
              "      <td>Released</td>\n",
              "      <td>NaN</td>\n",
              "      <td>Signed, Sealed, Delivered</td>\n",
              "      <td>7.0</td>\n",
              "      <td>6</td>\n",
              "    </tr>\n",
              "    <tr>\n",
              "      <th>4801</th>\n",
              "      <td>0</td>\n",
              "      <td>[]</td>\n",
              "      <td>http://shanghaicalling.com/</td>\n",
              "      <td>126186</td>\n",
              "      <td>[]</td>\n",
              "      <td>en</td>\n",
              "      <td>Shanghai Calling</td>\n",
              "      <td>When ambitious New York attorney Sam is sent t...</td>\n",
              "      <td>0.857008</td>\n",
              "      <td>[]</td>\n",
              "      <td>[{\"iso_3166_1\": \"US\", \"name\": \"United States o...</td>\n",
              "      <td>2012-05-03</td>\n",
              "      <td>0</td>\n",
              "      <td>98.0</td>\n",
              "      <td>[{\"iso_639_1\": \"en\", \"name\": \"English\"}]</td>\n",
              "      <td>Released</td>\n",
              "      <td>A New Yorker in Shanghai</td>\n",
              "      <td>Shanghai Calling</td>\n",
              "      <td>5.7</td>\n",
              "      <td>7</td>\n",
              "    </tr>\n",
              "    <tr>\n",
              "      <th>4802</th>\n",
              "      <td>0</td>\n",
              "      <td>[{\"id\": 99, \"name\": \"Documentary\"}]</td>\n",
              "      <td>NaN</td>\n",
              "      <td>25975</td>\n",
              "      <td>[{\"id\": 1523, \"name\": \"obsession\"}, {\"id\": 224...</td>\n",
              "      <td>en</td>\n",
              "      <td>My Date with Drew</td>\n",
              "      <td>Ever since the second grade when he first saw ...</td>\n",
              "      <td>1.929883</td>\n",
              "      <td>[{\"name\": \"rusty bear entertainment\", \"id\": 87...</td>\n",
              "      <td>[{\"iso_3166_1\": \"US\", \"name\": \"United States o...</td>\n",
              "      <td>2005-08-05</td>\n",
              "      <td>0</td>\n",
              "      <td>90.0</td>\n",
              "      <td>[{\"iso_639_1\": \"en\", \"name\": \"English\"}]</td>\n",
              "      <td>Released</td>\n",
              "      <td>NaN</td>\n",
              "      <td>My Date with Drew</td>\n",
              "      <td>6.3</td>\n",
              "      <td>16</td>\n",
              "    </tr>\n",
              "  </tbody>\n",
              "</table>\n",
              "<p>4803 rows × 20 columns</p>\n",
              "</div>\n",
              "    <div class=\"colab-df-buttons\">\n",
              "      \n",
              "  <div class=\"colab-df-container\">\n",
              "    <button class=\"colab-df-convert\" onclick=\"convertToInteractive('df-78d5dabf-d03c-4b9c-8020-87dfae5dd837')\"\n",
              "            title=\"Convert this dataframe to an interactive table.\"\n",
              "            style=\"display:none;\">\n",
              "      \n",
              "  <svg xmlns=\"http://www.w3.org/2000/svg\" height=\"24px\" viewBox=\"0 -960 960 960\">\n",
              "    <path d=\"M120-120v-720h720v720H120Zm60-500h600v-160H180v160Zm220 220h160v-160H400v160Zm0 220h160v-160H400v160ZM180-400h160v-160H180v160Zm440 0h160v-160H620v160ZM180-180h160v-160H180v160Zm440 0h160v-160H620v160Z\"/>\n",
              "  </svg>\n",
              "    </button>\n",
              "    \n",
              "  <style>\n",
              "    .colab-df-container {\n",
              "      display:flex;\n",
              "      gap: 12px;\n",
              "    }\n",
              "\n",
              "    .colab-df-convert {\n",
              "      background-color: #E8F0FE;\n",
              "      border: none;\n",
              "      border-radius: 50%;\n",
              "      cursor: pointer;\n",
              "      display: none;\n",
              "      fill: #1967D2;\n",
              "      height: 32px;\n",
              "      padding: 0 0 0 0;\n",
              "      width: 32px;\n",
              "    }\n",
              "\n",
              "    .colab-df-convert:hover {\n",
              "      background-color: #E2EBFA;\n",
              "      box-shadow: 0px 1px 2px rgba(60, 64, 67, 0.3), 0px 1px 3px 1px rgba(60, 64, 67, 0.15);\n",
              "      fill: #174EA6;\n",
              "    }\n",
              "\n",
              "    .colab-df-buttons div {\n",
              "      margin-bottom: 4px;\n",
              "    }\n",
              "\n",
              "    [theme=dark] .colab-df-convert {\n",
              "      background-color: #3B4455;\n",
              "      fill: #D2E3FC;\n",
              "    }\n",
              "\n",
              "    [theme=dark] .colab-df-convert:hover {\n",
              "      background-color: #434B5C;\n",
              "      box-shadow: 0px 1px 3px 1px rgba(0, 0, 0, 0.15);\n",
              "      filter: drop-shadow(0px 1px 2px rgba(0, 0, 0, 0.3));\n",
              "      fill: #FFFFFF;\n",
              "    }\n",
              "  </style>\n",
              "\n",
              "    <script>\n",
              "      const buttonEl =\n",
              "        document.querySelector('#df-78d5dabf-d03c-4b9c-8020-87dfae5dd837 button.colab-df-convert');\n",
              "      buttonEl.style.display =\n",
              "        google.colab.kernel.accessAllowed ? 'block' : 'none';\n",
              "\n",
              "      async function convertToInteractive(key) {\n",
              "        const element = document.querySelector('#df-78d5dabf-d03c-4b9c-8020-87dfae5dd837');\n",
              "        const dataTable =\n",
              "          await google.colab.kernel.invokeFunction('convertToInteractive',\n",
              "                                                    [key], {});\n",
              "        if (!dataTable) return;\n",
              "\n",
              "        const docLinkHtml = 'Like what you see? Visit the ' +\n",
              "          '<a target=\"_blank\" href=https://colab.research.google.com/notebooks/data_table.ipynb>data table notebook</a>'\n",
              "          + ' to learn more about interactive tables.';\n",
              "        element.innerHTML = '';\n",
              "        dataTable['output_type'] = 'display_data';\n",
              "        await google.colab.output.renderOutput(dataTable, element);\n",
              "        const docLink = document.createElement('div');\n",
              "        docLink.innerHTML = docLinkHtml;\n",
              "        element.appendChild(docLink);\n",
              "      }\n",
              "    </script>\n",
              "  </div>\n",
              "  \n",
              "    </div>\n",
              "  </div>\n",
              "  "
            ]
          },
          "metadata": {},
          "execution_count": 7
        }
      ],
      "source": [
        "df = pd.read_csv(\"/content/tmdb_5000_movies (2).csv\")\n",
        "df"
      ]
    },
    {
      "cell_type": "markdown",
      "id": "1915f1f7",
      "metadata": {
        "id": "1915f1f7"
      },
      "source": [
        "View information about the dataset including datatypes and null values"
      ]
    },
    {
      "cell_type": "code",
      "execution_count": 8,
      "id": "c173d066",
      "metadata": {
        "id": "c173d066",
        "colab": {
          "base_uri": "https://localhost:8080/"
        },
        "outputId": "67e3b380-46d5-4e1e-feb3-517afcf89f3e"
      },
      "outputs": [
        {
          "output_type": "stream",
          "name": "stdout",
          "text": [
            "<class 'pandas.core.frame.DataFrame'>\n",
            "RangeIndex: 4803 entries, 0 to 4802\n",
            "Data columns (total 20 columns):\n",
            " #   Column                Non-Null Count  Dtype  \n",
            "---  ------                --------------  -----  \n",
            " 0   budget                4803 non-null   int64  \n",
            " 1   genres                4803 non-null   object \n",
            " 2   homepage              1712 non-null   object \n",
            " 3   id                    4803 non-null   int64  \n",
            " 4   keywords              4803 non-null   object \n",
            " 5   original_language     4803 non-null   object \n",
            " 6   original_title        4803 non-null   object \n",
            " 7   overview              4800 non-null   object \n",
            " 8   popularity            4803 non-null   float64\n",
            " 9   production_companies  4803 non-null   object \n",
            " 10  production_countries  4803 non-null   object \n",
            " 11  release_date          4802 non-null   object \n",
            " 12  revenue               4803 non-null   int64  \n",
            " 13  runtime               4801 non-null   float64\n",
            " 14  spoken_languages      4803 non-null   object \n",
            " 15  status                4803 non-null   object \n",
            " 16  tagline               3959 non-null   object \n",
            " 17  title                 4803 non-null   object \n",
            " 18  vote_average          4803 non-null   float64\n",
            " 19  vote_count            4803 non-null   int64  \n",
            "dtypes: float64(3), int64(4), object(13)\n",
            "memory usage: 750.6+ KB\n"
          ]
        }
      ],
      "source": [
        "df.info()"
      ]
    },
    {
      "cell_type": "markdown",
      "id": "4e64a24f",
      "metadata": {
        "id": "4e64a24f"
      },
      "source": [
        "**Q.1.1.2** What columns have null values above? How would you be able to estimate the missing values?"
      ]
    },
    {
      "cell_type": "markdown",
      "id": "2660fe51",
      "metadata": {
        "id": "2660fe51"
      },
      "source": [
        "*Your text answer here*: #2, #7, #11, #13, #16\n",
        "See below how to do it for a row:"
      ]
    },
    {
      "cell_type": "markdown",
      "id": "83863820",
      "metadata": {
        "id": "83863820"
      },
      "source": [
        "### Q1.2\n",
        "For this notebook, we're only interested in a few columns, specifically title, overview and genres. Set df to only contain those columns. To estimate the missing values you could take the mean of that column IF the distribution is okay."
      ]
    },
    {
      "cell_type": "code",
      "execution_count": 9,
      "id": "4e3f0439",
      "metadata": {
        "id": "4e3f0439",
        "colab": {
          "base_uri": "https://localhost:8080/"
        },
        "outputId": "ada11ca5-6125-4e0a-b52c-490ffa147fd3"
      },
      "outputs": [
        {
          "output_type": "stream",
          "name": "stdout",
          "text": [
            "<class 'pandas.core.frame.DataFrame'>\n",
            "RangeIndex: 4803 entries, 0 to 4802\n",
            "Data columns (total 3 columns):\n",
            " #   Column    Non-Null Count  Dtype \n",
            "---  ------    --------------  ----- \n",
            " 0   title     4803 non-null   object\n",
            " 1   overview  4800 non-null   object\n",
            " 2   genres    4803 non-null   object\n",
            "dtypes: object(3)\n",
            "memory usage: 112.7+ KB\n"
          ]
        }
      ],
      "source": [
        "df = df[['title', 'overview', 'genres']]\n",
        "df.info() # print out df info to verify"
      ]
    },
    {
      "cell_type": "markdown",
      "id": "b596e86b",
      "metadata": {
        "id": "b596e86b"
      },
      "source": [
        "### Q1.3\n",
        "We see that some movies do not have an overview. Drop them from the table and reset the index (set `drop=True`)."
      ]
    },
    {
      "cell_type": "code",
      "execution_count": 10,
      "id": "a06e4f6a",
      "metadata": {
        "id": "a06e4f6a"
      },
      "outputs": [],
      "source": [
        "df = df.dropna() # drop na values\n",
        "df = df.reset_index() # reset index"
      ]
    },
    {
      "cell_type": "markdown",
      "id": "759df3a2",
      "metadata": {
        "id": "759df3a2"
      },
      "source": [
        "# Q2 One-hot encodings\n",
        "The following code processes the genres (which you see above are list of dictionaries) and encodes them into one-hot labels.\n",
        "\n",
        "Remember, since we cannot do maths on text strings, we must change these words to numbers. Here, we create one-hot encodings for the genres. Assume we have three genres $[G_1, G_2, G_3]$. If a movie $M_1$ is tagged with genre $G_1$, the encoding is $[1,0,0]$. If another movie $M_2$ is tagged with $G2$, the encoding becomes $[0,1,0]$. Other encodings are possible as well, but one-hot encoding quite common and useful for many other tasks. In this case, if a movie is tagged with more than one genre, we'll just take a random one and encode that into a one-hot label.\n",
        "\n",
        "### Q2.1 Processing genres\n",
        "\n",
        "Finish the following code that processes genres into one-hot encodings."
      ]
    },
    {
      "cell_type": "code",
      "execution_count": 11,
      "id": "dba05feb",
      "metadata": {
        "id": "dba05feb",
        "colab": {
          "base_uri": "https://localhost:8080/"
        },
        "outputId": "a12e654b-b877-41ad-bb57-1ec38dd2f88d"
      },
      "outputs": [
        {
          "output_type": "stream",
          "name": "stderr",
          "text": [
            "100%|██████████| 4800/4800 [00:00<00:00, 16853.79it/s]\n"
          ]
        }
      ],
      "source": [
        "np.random.seed(0)\n",
        "\n",
        "def process_genre_string(gs):\n",
        "    \"\"\" Processes genres into a single item from a list\"\"\"\n",
        "    gs = eval(gs)\n",
        "    gs = [x['name'] for x in gs]\n",
        "    genre = \"Unknown\"\n",
        "    if gs:\n",
        "        genre = np.random.choice(gs) # choose random entry\n",
        "    return genre\n",
        "\n",
        "# TODO: Fill in\n",
        "def encode_labels(labels, unique_labels):\n",
        "    \"\"\" Encodes text labels into a one-hot encoded list\n",
        "        with possibly more than one one-hot per list.\n",
        "        :param label: the label you want to one-hot encode\n",
        "        :unique_labels: the vocabulary\n",
        "    \"\"\"\n",
        "    out = np.zeros(len(unique_labels))\n",
        "    for label in labels:\n",
        "        if label in unique_labels:\n",
        "            out[unique_labels.index(label)] = 1\n",
        "    return out\n",
        "\n",
        "# save genres\n",
        "processed_genres = []\n",
        "for index, row in df.iterrows():\n",
        "    processed_genres.append(process_genre_string(df[\"genres\"].iloc[index]))\n",
        "\n",
        "# sort and remove duplicates to get vocabulary\n",
        "unique_genres = sorted(list(set(processed_genres)))\n",
        "\n",
        "# add to dataframe as new column\n",
        "df[\"proc_genres\"] = processed_genres\n",
        "\n",
        "# one-hot encode genres\n",
        "enocded_labels = []\n",
        "for index, row in tqdm(df.iterrows(), total=len(df)):\n",
        "    enocded_labels.append(encode_labels([df[\"proc_genres\"].iloc[index]], unique_genres))\n",
        "\n",
        "df[\"one_hot_genres\"] = enocded_labels"
      ]
    },
    {
      "cell_type": "markdown",
      "id": "d17501a9",
      "metadata": {
        "id": "d17501a9"
      },
      "source": [
        "Verify that one-hot encodings are indeed as expected"
      ]
    },
    {
      "cell_type": "code",
      "execution_count": 12,
      "id": "3b64854b",
      "metadata": {
        "id": "3b64854b",
        "colab": {
          "base_uri": "https://localhost:8080/"
        },
        "outputId": "d0c95351-f590-44a6-a561-51fb5461a5d2"
      },
      "outputs": [
        {
          "output_type": "execute_result",
          "data": {
            "text/plain": [
              "array([0., 0., 0., 0., 0., 0., 0., 0., 1., 0., 0., 0., 0., 0., 0., 0., 0.,\n",
              "       0., 0., 0., 0.])"
            ]
          },
          "metadata": {},
          "execution_count": 12
        }
      ],
      "source": [
        "df[\"one_hot_genres\"][1]"
      ]
    },
    {
      "cell_type": "markdown",
      "id": "b0a83ece",
      "metadata": {
        "id": "b0a83ece"
      },
      "source": [
        "### Q2.2 Processing Overviews\n",
        "Next, we process the overviews. First, we remove all punctuation for the sake of simplicity and change each overview to use only lowercase. Then we need to see how long the overviews are in terms of numbers of words. We can do this with a histogram.\n",
        "\n",
        "**Q2.2.1** Finish the following code"
      ]
    },
    {
      "cell_type": "code",
      "execution_count": 13,
      "id": "bfd51c53",
      "metadata": {
        "id": "bfd51c53",
        "colab": {
          "base_uri": "https://localhost:8080/",
          "height": 1000
        },
        "outputId": "a0bc3453-c3d6-4a9c-f3d9-b3daea949ce4"
      },
      "outputs": [
        {
          "output_type": "display_data",
          "data": {
            "text/plain": [
              "<Figure size 640x480 with 1 Axes>"
            ],
            "image/png": "[encoded data removed]"
          },
          "metadata": {}
        },
        {
          "output_type": "stream",
          "name": "stdout",
          "text": [
            "Min: 1\n",
            "Max: 982\n",
            "      index                                     title  \\\n",
            "0         0                                    Avatar   \n",
            "1         1  Pirates of the Caribbean: At World's End   \n",
            "2         2                                   Spectre   \n",
            "3         3                     The Dark Knight Rises   \n",
            "4         4                               John Carter   \n",
            "...     ...                                       ...   \n",
            "4795   4798                               El Mariachi   \n",
            "4796   4799                                 Newlyweds   \n",
            "4797   4800                 Signed, Sealed, Delivered   \n",
            "4798   4801                          Shanghai Calling   \n",
            "4799   4802                         My Date with Drew   \n",
            "\n",
            "                                               overview  \\\n",
            "0     In the 22nd century, a paraplegic Marine is di...   \n",
            "1     Captain Barbossa, long believed to be dead, ha...   \n",
            "2     A cryptic message from Bond’s past sends him o...   \n",
            "3     Following the death of District Attorney Harve...   \n",
            "4     John Carter is a war-weary, former military ca...   \n",
            "...                                                 ...   \n",
            "4795  El Mariachi just wants to play his guitar and ...   \n",
            "4796  A newlywed couple's honeymoon is upended by th...   \n",
            "4797  \"Signed, Sealed, Delivered\" introduces a dedic...   \n",
            "4798  When ambitious New York attorney Sam is sent t...   \n",
            "4799  Ever since the second grade when he first saw ...   \n",
            "\n",
            "                                                 genres  proc_genres  \\\n",
            "0     [{\"id\": 28, \"name\": \"Action\"}, {\"id\": 12, \"nam...       Action   \n",
            "1     [{\"id\": 12, \"name\": \"Adventure\"}, {\"id\": 14, \"...      Fantasy   \n",
            "2     [{\"id\": 28, \"name\": \"Action\"}, {\"id\": 12, \"nam...       Action   \n",
            "3     [{\"id\": 28, \"name\": \"Action\"}, {\"id\": 80, \"nam...     Thriller   \n",
            "4     [{\"id\": 28, \"name\": \"Action\"}, {\"id\": 12, \"nam...    Adventure   \n",
            "...                                                 ...          ...   \n",
            "4795  [{\"id\": 28, \"name\": \"Action\"}, {\"id\": 80, \"nam...        Crime   \n",
            "4796  [{\"id\": 35, \"name\": \"Comedy\"}, {\"id\": 10749, \"...       Comedy   \n",
            "4797  [{\"id\": 35, \"name\": \"Comedy\"}, {\"id\": 18, \"nam...     TV Movie   \n",
            "4798                                                 []      Unknown   \n",
            "4799                [{\"id\": 99, \"name\": \"Documentary\"}]  Documentary   \n",
            "\n",
            "                                         one_hot_genres  \\\n",
            "0     [1.0, 0.0, 0.0, 0.0, 0.0, 0.0, 0.0, 0.0, 0.0, ...   \n",
            "1     [0.0, 0.0, 0.0, 0.0, 0.0, 0.0, 0.0, 0.0, 1.0, ...   \n",
            "2     [1.0, 0.0, 0.0, 0.0, 0.0, 0.0, 0.0, 0.0, 0.0, ...   \n",
            "3     [0.0, 0.0, 0.0, 0.0, 0.0, 0.0, 0.0, 0.0, 0.0, ...   \n",
            "4     [0.0, 1.0, 0.0, 0.0, 0.0, 0.0, 0.0, 0.0, 0.0, ...   \n",
            "...                                                 ...   \n",
            "4795  [0.0, 0.0, 0.0, 0.0, 1.0, 0.0, 0.0, 0.0, 0.0, ...   \n",
            "4796  [0.0, 0.0, 0.0, 1.0, 0.0, 0.0, 0.0, 0.0, 0.0, ...   \n",
            "4797  [0.0, 0.0, 0.0, 0.0, 0.0, 0.0, 0.0, 0.0, 0.0, ...   \n",
            "4798  [0.0, 0.0, 0.0, 0.0, 0.0, 0.0, 0.0, 0.0, 0.0, ...   \n",
            "4799  [0.0, 0.0, 0.0, 0.0, 0.0, 1.0, 0.0, 0.0, 0.0, ...   \n",
            "\n",
            "                                          proc_overview  overview_len  \n",
            "0     In the 22nd century a paraplegic Marine is dis...           172  \n",
            "1     Captain Barbossa long believed to be dead has ...           172  \n",
            "2     A cryptic message from Bonds past sends him on...           236  \n",
            "3     Following the death of District Attorney Harve...           419  \n",
            "4     John Carter is a warweary former military capt...           333  \n",
            "...                                                 ...           ...  \n",
            "4795  El Mariachi just wants to play his guitar and ...           329  \n",
            "4796  A newlywed couples honeymoon is upended by the...            83  \n",
            "4797  Signed Sealed Delivered introduces a dedicated...           461  \n",
            "4798  When ambitious New York attorney Sam is sent t...           398  \n",
            "4799  Ever since the second grade when he first saw ...           348  \n",
            "\n",
            "[4800 rows x 8 columns]\n"
          ]
        }
      ],
      "source": [
        "import re\n",
        "def remove_punctuation(text):\n",
        "    \"\"\" Only retains letters, numbers, underscores and whitespace \"\"\"\n",
        "    pattern = r'[^\\w\\s]'\n",
        "    return re.sub(pattern, '', text)\n",
        "\n",
        "processed_overviews = []\n",
        "\n",
        "# loop over df, remove punctuation, make words lowercase and add it to a new column\n",
        "proc_overview_clean = []\n",
        "for overview in df[\"overview\"]:\n",
        "  proc_overview_clean.append(remove_punctuation(overview))\n",
        "df[\"proc_overview\"] = proc_overview_clean\n",
        "\n",
        "# get the word lengths of each overview and store it in a list\n",
        "overview_lens = []\n",
        "for overview in df[\"proc_overview\"]:\n",
        "  overview_lens.append(len(overview))\n",
        "\n",
        "# for the sake of simplicity, add these values as a column to the df\n",
        "df[\"overview_len\"] = overview_lens\n",
        "plt.hist(df[\"overview_len\"], bins=10)\n",
        "plt.show()\n",
        "print(\"Min:\", min(df[\"overview_len\"]))\n",
        "print(\"Max:\", max(df[\"overview_len\"]))\n",
        "print(df)"
      ]
    },
    {
      "cell_type": "markdown",
      "id": "58138594",
      "metadata": {
        "id": "58138594"
      },
      "source": [
        "**Q2.2.2** What is the shortest overview? What is the longest? In the next step, we need to decide on a standard length of all overviews -- this means dropping overviews less than some value, and truncating longer ones. What length would you choose to minimize the number of movies dropped and maximize the information (words) stored in the overviews?"
      ]
    },
    {
      "cell_type": "markdown",
      "id": "3b87f1af",
      "metadata": {
        "id": "3b87f1af"
      },
      "source": [
        "*Your text answer here*: Shortest equals 1. Longest equals 982. See box above for the code. I would choose: overview_length $\\in[30, 600]$"
      ]
    },
    {
      "cell_type": "markdown",
      "id": "54e6cb90",
      "metadata": {
        "id": "54e6cb90"
      },
      "source": [
        "### Q2.2.3\n",
        "Let's choose overviews of length 15 words. What this means is we need to discard movies that have overviews less than 15 (there are other ways of dealing with it, but this should be fine for now) and truncate the higher ones to the first 15 words."
      ]
    },
    {
      "cell_type": "code",
      "execution_count": 14,
      "id": "70854211",
      "metadata": {
        "id": "70854211",
        "colab": {
          "base_uri": "https://localhost:8080/",
          "height": 1000
        },
        "outputId": "59ebc787-bf7f-455e-c26d-47ec631a336a"
      },
      "outputs": [
        {
          "output_type": "execute_result",
          "data": {
            "text/plain": [
              "      index                                     title  \\\n",
              "0         0                                    Avatar   \n",
              "1         1  Pirates of the Caribbean: At World's End   \n",
              "2         2                                   Spectre   \n",
              "3         3                     The Dark Knight Rises   \n",
              "4         4                               John Carter   \n",
              "...     ...                                       ...   \n",
              "4795   4798                               El Mariachi   \n",
              "4796   4799                                 Newlyweds   \n",
              "4797   4800                 Signed, Sealed, Delivered   \n",
              "4798   4801                          Shanghai Calling   \n",
              "4799   4802                         My Date with Drew   \n",
              "\n",
              "                                               overview  \\\n",
              "0     In the 22nd century, a paraplegic Marine is di...   \n",
              "1     Captain Barbossa, long believed to be dead, ha...   \n",
              "2     A cryptic message from Bond’s past sends him o...   \n",
              "3     Following the death of District Attorney Harve...   \n",
              "4     John Carter is a war-weary, former military ca...   \n",
              "...                                                 ...   \n",
              "4795  El Mariachi just wants to play his guitar and ...   \n",
              "4796  A newlywed couple's honeymoon is upended by th...   \n",
              "4797  \"Signed, Sealed, Delivered\" introduces a dedic...   \n",
              "4798  When ambitious New York attorney Sam is sent t...   \n",
              "4799  Ever since the second grade when he first saw ...   \n",
              "\n",
              "                                                 genres  proc_genres  \\\n",
              "0     [{\"id\": 28, \"name\": \"Action\"}, {\"id\": 12, \"nam...       Action   \n",
              "1     [{\"id\": 12, \"name\": \"Adventure\"}, {\"id\": 14, \"...      Fantasy   \n",
              "2     [{\"id\": 28, \"name\": \"Action\"}, {\"id\": 12, \"nam...       Action   \n",
              "3     [{\"id\": 28, \"name\": \"Action\"}, {\"id\": 80, \"nam...     Thriller   \n",
              "4     [{\"id\": 28, \"name\": \"Action\"}, {\"id\": 12, \"nam...    Adventure   \n",
              "...                                                 ...          ...   \n",
              "4795  [{\"id\": 28, \"name\": \"Action\"}, {\"id\": 80, \"nam...        Crime   \n",
              "4796  [{\"id\": 35, \"name\": \"Comedy\"}, {\"id\": 10749, \"...       Comedy   \n",
              "4797  [{\"id\": 35, \"name\": \"Comedy\"}, {\"id\": 18, \"nam...     TV Movie   \n",
              "4798                                                 []      Unknown   \n",
              "4799                [{\"id\": 99, \"name\": \"Documentary\"}]  Documentary   \n",
              "\n",
              "                                         one_hot_genres  \\\n",
              "0     [1.0, 0.0, 0.0, 0.0, 0.0, 0.0, 0.0, 0.0, 0.0, ...   \n",
              "1     [0.0, 0.0, 0.0, 0.0, 0.0, 0.0, 0.0, 0.0, 1.0, ...   \n",
              "2     [1.0, 0.0, 0.0, 0.0, 0.0, 0.0, 0.0, 0.0, 0.0, ...   \n",
              "3     [0.0, 0.0, 0.0, 0.0, 0.0, 0.0, 0.0, 0.0, 0.0, ...   \n",
              "4     [0.0, 1.0, 0.0, 0.0, 0.0, 0.0, 0.0, 0.0, 0.0, ...   \n",
              "...                                                 ...   \n",
              "4795  [0.0, 0.0, 0.0, 0.0, 1.0, 0.0, 0.0, 0.0, 0.0, ...   \n",
              "4796  [0.0, 0.0, 0.0, 1.0, 0.0, 0.0, 0.0, 0.0, 0.0, ...   \n",
              "4797  [0.0, 0.0, 0.0, 0.0, 0.0, 0.0, 0.0, 0.0, 0.0, ...   \n",
              "4798  [0.0, 0.0, 0.0, 0.0, 0.0, 0.0, 0.0, 0.0, 0.0, ...   \n",
              "4799  [0.0, 0.0, 0.0, 0.0, 0.0, 1.0, 0.0, 0.0, 0.0, ...   \n",
              "\n",
              "                                          proc_overview  overview_len  \n",
              "0     [In, the, 22nd, century, a, paraplegic, Marine...           172  \n",
              "1     [Captain, Barbossa, long, believed, to, be, de...           172  \n",
              "2     [A, cryptic, message, from, Bonds, past, sends...           236  \n",
              "3     [Following, the, death, of, District, Attorney...           419  \n",
              "4     [John, Carter, is, a, warweary, former, milita...           333  \n",
              "...                                                 ...           ...  \n",
              "4795  [El, Mariachi, just, wants, to, play, his, gui...           329  \n",
              "4796  [A, newlywed, couples, honeymoon, is, upended,...            83  \n",
              "4797  [Signed, Sealed, Delivered, introduces, a, ded...           461  \n",
              "4798  [When, ambitious, New, York, attorney, Sam, is...           398  \n",
              "4799  [Ever, since, the, second, grade, when, he, fi...           348  \n",
              "\n",
              "[4799 rows x 8 columns]"
            ],
            "text/html": [
              "\n",
              "  <div id=\"df-6673550d-6263-481d-ba7f-54d633b54aaf\" class=\"colab-df-container\">\n",
              "    <div>\n",
              "<style scoped>\n",
              "    .dataframe tbody tr th:only-of-type {\n",
              "        vertical-align: middle;\n",
              "    }\n",
              "\n",
              "    .dataframe tbody tr th {\n",
              "        vertical-align: top;\n",
              "    }\n",
              "\n",
              "    .dataframe thead th {\n",
              "        text-align: right;\n",
              "    }\n",
              "</style>\n",
              "<table border=\"1\" class=\"dataframe\">\n",
              "  <thead>\n",
              "    <tr style=\"text-align: right;\">\n",
              "      <th></th>\n",
              "      <th>index</th>\n",
              "      <th>title</th>\n",
              "      <th>overview</th>\n",
              "      <th>genres</th>\n",
              "      <th>proc_genres</th>\n",
              "      <th>one_hot_genres</th>\n",
              "      <th>proc_overview</th>\n",
              "      <th>overview_len</th>\n",
              "    </tr>\n",
              "  </thead>\n",
              "  <tbody>\n",
              "    <tr>\n",
              "      <th>0</th>\n",
              "      <td>0</td>\n",
              "      <td>Avatar</td>\n",
              "      <td>In the 22nd century, a paraplegic Marine is di...</td>\n",
              "      <td>[{\"id\": 28, \"name\": \"Action\"}, {\"id\": 12, \"nam...</td>\n",
              "      <td>Action</td>\n",
              "      <td>[1.0, 0.0, 0.0, 0.0, 0.0, 0.0, 0.0, 0.0, 0.0, ...</td>\n",
              "      <td>[In, the, 22nd, century, a, paraplegic, Marine...</td>\n",
              "      <td>172</td>\n",
              "    </tr>\n",
              "    <tr>\n",
              "      <th>1</th>\n",
              "      <td>1</td>\n",
              "      <td>Pirates of the Caribbean: At World's End</td>\n",
              "      <td>Captain Barbossa, long believed to be dead, ha...</td>\n",
              "      <td>[{\"id\": 12, \"name\": \"Adventure\"}, {\"id\": 14, \"...</td>\n",
              "      <td>Fantasy</td>\n",
              "      <td>[0.0, 0.0, 0.0, 0.0, 0.0, 0.0, 0.0, 0.0, 1.0, ...</td>\n",
              "      <td>[Captain, Barbossa, long, believed, to, be, de...</td>\n",
              "      <td>172</td>\n",
              "    </tr>\n",
              "    <tr>\n",
              "      <th>2</th>\n",
              "      <td>2</td>\n",
              "      <td>Spectre</td>\n",
              "      <td>A cryptic message from Bond’s past sends him o...</td>\n",
              "      <td>[{\"id\": 28, \"name\": \"Action\"}, {\"id\": 12, \"nam...</td>\n",
              "      <td>Action</td>\n",
              "      <td>[1.0, 0.0, 0.0, 0.0, 0.0, 0.0, 0.0, 0.0, 0.0, ...</td>\n",
              "      <td>[A, cryptic, message, from, Bonds, past, sends...</td>\n",
              "      <td>236</td>\n",
              "    </tr>\n",
              "    <tr>\n",
              "      <th>3</th>\n",
              "      <td>3</td>\n",
              "      <td>The Dark Knight Rises</td>\n",
              "      <td>Following the death of District Attorney Harve...</td>\n",
              "      <td>[{\"id\": 28, \"name\": \"Action\"}, {\"id\": 80, \"nam...</td>\n",
              "      <td>Thriller</td>\n",
              "      <td>[0.0, 0.0, 0.0, 0.0, 0.0, 0.0, 0.0, 0.0, 0.0, ...</td>\n",
              "      <td>[Following, the, death, of, District, Attorney...</td>\n",
              "      <td>419</td>\n",
              "    </tr>\n",
              "    <tr>\n",
              "      <th>4</th>\n",
              "      <td>4</td>\n",
              "      <td>John Carter</td>\n",
              "      <td>John Carter is a war-weary, former military ca...</td>\n",
              "      <td>[{\"id\": 28, \"name\": \"Action\"}, {\"id\": 12, \"nam...</td>\n",
              "      <td>Adventure</td>\n",
              "      <td>[0.0, 1.0, 0.0, 0.0, 0.0, 0.0, 0.0, 0.0, 0.0, ...</td>\n",
              "      <td>[John, Carter, is, a, warweary, former, milita...</td>\n",
              "      <td>333</td>\n",
              "    </tr>\n",
              "    <tr>\n",
              "      <th>...</th>\n",
              "      <td>...</td>\n",
              "      <td>...</td>\n",
              "      <td>...</td>\n",
              "      <td>...</td>\n",
              "      <td>...</td>\n",
              "      <td>...</td>\n",
              "      <td>...</td>\n",
              "      <td>...</td>\n",
              "    </tr>\n",
              "    <tr>\n",
              "      <th>4795</th>\n",
              "      <td>4798</td>\n",
              "      <td>El Mariachi</td>\n",
              "      <td>El Mariachi just wants to play his guitar and ...</td>\n",
              "      <td>[{\"id\": 28, \"name\": \"Action\"}, {\"id\": 80, \"nam...</td>\n",
              "      <td>Crime</td>\n",
              "      <td>[0.0, 0.0, 0.0, 0.0, 1.0, 0.0, 0.0, 0.0, 0.0, ...</td>\n",
              "      <td>[El, Mariachi, just, wants, to, play, his, gui...</td>\n",
              "      <td>329</td>\n",
              "    </tr>\n",
              "    <tr>\n",
              "      <th>4796</th>\n",
              "      <td>4799</td>\n",
              "      <td>Newlyweds</td>\n",
              "      <td>A newlywed couple's honeymoon is upended by th...</td>\n",
              "      <td>[{\"id\": 35, \"name\": \"Comedy\"}, {\"id\": 10749, \"...</td>\n",
              "      <td>Comedy</td>\n",
              "      <td>[0.0, 0.0, 0.0, 1.0, 0.0, 0.0, 0.0, 0.0, 0.0, ...</td>\n",
              "      <td>[A, newlywed, couples, honeymoon, is, upended,...</td>\n",
              "      <td>83</td>\n",
              "    </tr>\n",
              "    <tr>\n",
              "      <th>4797</th>\n",
              "      <td>4800</td>\n",
              "      <td>Signed, Sealed, Delivered</td>\n",
              "      <td>\"Signed, Sealed, Delivered\" introduces a dedic...</td>\n",
              "      <td>[{\"id\": 35, \"name\": \"Comedy\"}, {\"id\": 18, \"nam...</td>\n",
              "      <td>TV Movie</td>\n",
              "      <td>[0.0, 0.0, 0.0, 0.0, 0.0, 0.0, 0.0, 0.0, 0.0, ...</td>\n",
              "      <td>[Signed, Sealed, Delivered, introduces, a, ded...</td>\n",
              "      <td>461</td>\n",
              "    </tr>\n",
              "    <tr>\n",
              "      <th>4798</th>\n",
              "      <td>4801</td>\n",
              "      <td>Shanghai Calling</td>\n",
              "      <td>When ambitious New York attorney Sam is sent t...</td>\n",
              "      <td>[]</td>\n",
              "      <td>Unknown</td>\n",
              "      <td>[0.0, 0.0, 0.0, 0.0, 0.0, 0.0, 0.0, 0.0, 0.0, ...</td>\n",
              "      <td>[When, ambitious, New, York, attorney, Sam, is...</td>\n",
              "      <td>398</td>\n",
              "    </tr>\n",
              "    <tr>\n",
              "      <th>4799</th>\n",
              "      <td>4802</td>\n",
              "      <td>My Date with Drew</td>\n",
              "      <td>Ever since the second grade when he first saw ...</td>\n",
              "      <td>[{\"id\": 99, \"name\": \"Documentary\"}]</td>\n",
              "      <td>Documentary</td>\n",
              "      <td>[0.0, 0.0, 0.0, 0.0, 0.0, 1.0, 0.0, 0.0, 0.0, ...</td>\n",
              "      <td>[Ever, since, the, second, grade, when, he, fi...</td>\n",
              "      <td>348</td>\n",
              "    </tr>\n",
              "  </tbody>\n",
              "</table>\n",
              "<p>4799 rows × 8 columns</p>\n",
              "</div>\n",
              "    <div class=\"colab-df-buttons\">\n",
              "      \n",
              "  <div class=\"colab-df-container\">\n",
              "    <button class=\"colab-df-convert\" onclick=\"convertToInteractive('df-6673550d-6263-481d-ba7f-54d633b54aaf')\"\n",
              "            title=\"Convert this dataframe to an interactive table.\"\n",
              "            style=\"display:none;\">\n",
              "      \n",
              "  <svg xmlns=\"http://www.w3.org/2000/svg\" height=\"24px\" viewBox=\"0 -960 960 960\">\n",
              "    <path d=\"M120-120v-720h720v720H120Zm60-500h600v-160H180v160Zm220 220h160v-160H400v160Zm0 220h160v-160H400v160ZM180-400h160v-160H180v160Zm440 0h160v-160H620v160ZM180-180h160v-160H180v160Zm440 0h160v-160H620v160Z\"/>\n",
              "  </svg>\n",
              "    </button>\n",
              "    \n",
              "  <style>\n",
              "    .colab-df-container {\n",
              "      display:flex;\n",
              "      gap: 12px;\n",
              "    }\n",
              "\n",
              "    .colab-df-convert {\n",
              "      background-color: #E8F0FE;\n",
              "      border: none;\n",
              "      border-radius: 50%;\n",
              "      cursor: pointer;\n",
              "      display: none;\n",
              "      fill: #1967D2;\n",
              "      height: 32px;\n",
              "      padding: 0 0 0 0;\n",
              "      width: 32px;\n",
              "    }\n",
              "\n",
              "    .colab-df-convert:hover {\n",
              "      background-color: #E2EBFA;\n",
              "      box-shadow: 0px 1px 2px rgba(60, 64, 67, 0.3), 0px 1px 3px 1px rgba(60, 64, 67, 0.15);\n",
              "      fill: #174EA6;\n",
              "    }\n",
              "\n",
              "    .colab-df-buttons div {\n",
              "      margin-bottom: 4px;\n",
              "    }\n",
              "\n",
              "    [theme=dark] .colab-df-convert {\n",
              "      background-color: #3B4455;\n",
              "      fill: #D2E3FC;\n",
              "    }\n",
              "\n",
              "    [theme=dark] .colab-df-convert:hover {\n",
              "      background-color: #434B5C;\n",
              "      box-shadow: 0px 1px 3px 1px rgba(0, 0, 0, 0.15);\n",
              "      filter: drop-shadow(0px 1px 2px rgba(0, 0, 0, 0.3));\n",
              "      fill: #FFFFFF;\n",
              "    }\n",
              "  </style>\n",
              "\n",
              "    <script>\n",
              "      const buttonEl =\n",
              "        document.querySelector('#df-6673550d-6263-481d-ba7f-54d633b54aaf button.colab-df-convert');\n",
              "      buttonEl.style.display =\n",
              "        google.colab.kernel.accessAllowed ? 'block' : 'none';\n",
              "\n",
              "      async function convertToInteractive(key) {\n",
              "        const element = document.querySelector('#df-6673550d-6263-481d-ba7f-54d633b54aaf');\n",
              "        const dataTable =\n",
              "          await google.colab.kernel.invokeFunction('convertToInteractive',\n",
              "                                                    [key], {});\n",
              "        if (!dataTable) return;\n",
              "\n",
              "        const docLinkHtml = 'Like what you see? Visit the ' +\n",
              "          '<a target=\"_blank\" href=https://colab.research.google.com/notebooks/data_table.ipynb>data table notebook</a>'\n",
              "          + ' to learn more about interactive tables.';\n",
              "        element.innerHTML = '';\n",
              "        dataTable['output_type'] = 'display_data';\n",
              "        await google.colab.output.renderOutput(dataTable, element);\n",
              "        const docLink = document.createElement('div');\n",
              "        docLink.innerHTML = docLinkHtml;\n",
              "        element.appendChild(docLink);\n",
              "      }\n",
              "    </script>\n",
              "  </div>\n",
              "  \n",
              "    </div>\n",
              "  </div>\n",
              "  "
            ]
          },
          "metadata": {},
          "execution_count": 14
        }
      ],
      "source": [
        "token_len = 15 # number of words\n",
        "# only select rows where overview len is more than or equal to token_len\n",
        "df = df[df[\"overview_len\"] >= token_len]\n",
        "\n",
        "# split each proc_overview into a list of words, select the first token_len words,\n",
        "# and add the list of words back into df[\"proc_overview\"]\n",
        "proc_overview = []\n",
        "for overview in df[\"proc_overview\"]:\n",
        "  overview = overview.split()\n",
        "  proc_overview.append(overview[:token_len])\n",
        "df[\"proc_overview\"] = proc_overview\n",
        "\n",
        "# print to verify\n",
        "df"
      ]
    },
    {
      "cell_type": "markdown",
      "id": "26e092dd",
      "metadata": {
        "id": "26e092dd"
      },
      "source": [
        "### Q2.2.3 Finding the vocabulary length\n",
        "\n",
        "In order to one-hot encode words, we need to find how many words there are in total, just like in the case of genres. Get all the words, remove duplicates, and sort. Find and print the length of your vocabulary."
      ]
    },
    {
      "cell_type": "code",
      "execution_count": 15,
      "id": "a71a750b",
      "metadata": {
        "id": "a71a750b",
        "colab": {
          "base_uri": "https://localhost:8080/"
        },
        "outputId": "90f02ee6-d91e-4d67-d04b-2ce50cf7f215"
      },
      "outputs": [
        {
          "output_type": "stream",
          "name": "stdout",
          "text": [
            "13917\n"
          ]
        }
      ],
      "source": [
        "# hint: store all words for all movies in a set, change it to a list and sort\n",
        "\n",
        "vocab = set()\n",
        "for index, row in df.iterrows():\n",
        "    for word in row[\"proc_overview\"]:\n",
        "        vocab.add(word)\n",
        "\n",
        "vocab = sorted(list(vocab))\n",
        "vocab_len = len(vocab)\n",
        "\n",
        "print(vocab_len)"
      ]
    },
    {
      "cell_type": "markdown",
      "id": "f276b825",
      "metadata": {
        "id": "f276b825"
      },
      "source": [
        "### Q2.2.4 Encoding the labels\n",
        "\n",
        "In the case of genres, we one-hot encoded the outputs by taking a single random genre. However, an alternative method is to add up the one-hot encodings to form some kind of histogram. For example, if we have an overview \"a brown dog\", and our vocab is \\[a brown, big, cabbage, dog, goat, cow, turkey\\], the one-hot vector would be \\[1,1,0,0,1,0,0,0\\]. If our overview is \"a big brown dog\", the one-hot vector would be \\[1,1,1,0,1,0,0,0\\]. If our overview is \"a big big brown dog\", the one-hot vector would be \\[1,1,2,0,1,0,0,0\\]. You can use the `encode_labels` function that you defined earlier."
      ]
    },
    {
      "cell_type": "code",
      "execution_count": 16,
      "id": "d212192f",
      "metadata": {
        "id": "d212192f",
        "colab": {
          "base_uri": "https://localhost:8080/",
          "height": 475
        },
        "outputId": "e1f4f389-ea46-438a-9eb3-9812271b32a5"
      },
      "outputs": [
        {
          "output_type": "stream",
          "name": "stderr",
          "text": [
            "100%|██████████| 4799/4799 [00:16<00:00, 290.75it/s]\n"
          ]
        },
        {
          "output_type": "execute_result",
          "data": {
            "text/plain": [
              "0       [0.0, 0.0, 0.0, 0.0, 0.0, 0.0, 0.0, 0.0, 0.0, ...\n",
              "1       [0.0, 0.0, 0.0, 0.0, 0.0, 0.0, 0.0, 0.0, 0.0, ...\n",
              "2       [0.0, 0.0, 0.0, 0.0, 0.0, 0.0, 0.0, 0.0, 0.0, ...\n",
              "3       [0.0, 0.0, 0.0, 0.0, 0.0, 0.0, 0.0, 0.0, 0.0, ...\n",
              "4       [0.0, 0.0, 0.0, 0.0, 0.0, 0.0, 0.0, 0.0, 0.0, ...\n",
              "                              ...                        \n",
              "4795    [0.0, 0.0, 0.0, 0.0, 0.0, 0.0, 0.0, 0.0, 0.0, ...\n",
              "4796    [0.0, 0.0, 0.0, 0.0, 0.0, 0.0, 0.0, 0.0, 0.0, ...\n",
              "4797    [0.0, 0.0, 0.0, 0.0, 0.0, 0.0, 0.0, 0.0, 0.0, ...\n",
              "4798    [0.0, 0.0, 0.0, 0.0, 0.0, 0.0, 0.0, 0.0, 0.0, ...\n",
              "4799    [0.0, 0.0, 0.0, 0.0, 0.0, 0.0, 0.0, 0.0, 0.0, ...\n",
              "Name: one_hot_overview, Length: 4799, dtype: object"
            ],
            "text/html": [
              "<div>\n",
              "<style scoped>\n",
              "    .dataframe tbody tr th:only-of-type {\n",
              "        vertical-align: middle;\n",
              "    }\n",
              "\n",
              "    .dataframe tbody tr th {\n",
              "        vertical-align: top;\n",
              "    }\n",
              "\n",
              "    .dataframe thead th {\n",
              "        text-align: right;\n",
              "    }\n",
              "</style>\n",
              "<table border=\"1\" class=\"dataframe\">\n",
              "  <thead>\n",
              "    <tr style=\"text-align: right;\">\n",
              "      <th></th>\n",
              "      <th>one_hot_overview</th>\n",
              "    </tr>\n",
              "  </thead>\n",
              "  <tbody>\n",
              "    <tr>\n",
              "      <th>0</th>\n",
              "      <td>[0.0, 0.0, 0.0, 0.0, 0.0, 0.0, 0.0, 0.0, 0.0, ...</td>\n",
              "    </tr>\n",
              "    <tr>\n",
              "      <th>1</th>\n",
              "      <td>[0.0, 0.0, 0.0, 0.0, 0.0, 0.0, 0.0, 0.0, 0.0, ...</td>\n",
              "    </tr>\n",
              "    <tr>\n",
              "      <th>2</th>\n",
              "      <td>[0.0, 0.0, 0.0, 0.0, 0.0, 0.0, 0.0, 0.0, 0.0, ...</td>\n",
              "    </tr>\n",
              "    <tr>\n",
              "      <th>3</th>\n",
              "      <td>[0.0, 0.0, 0.0, 0.0, 0.0, 0.0, 0.0, 0.0, 0.0, ...</td>\n",
              "    </tr>\n",
              "    <tr>\n",
              "      <th>4</th>\n",
              "      <td>[0.0, 0.0, 0.0, 0.0, 0.0, 0.0, 0.0, 0.0, 0.0, ...</td>\n",
              "    </tr>\n",
              "    <tr>\n",
              "      <th>...</th>\n",
              "      <td>...</td>\n",
              "    </tr>\n",
              "    <tr>\n",
              "      <th>4795</th>\n",
              "      <td>[0.0, 0.0, 0.0, 0.0, 0.0, 0.0, 0.0, 0.0, 0.0, ...</td>\n",
              "    </tr>\n",
              "    <tr>\n",
              "      <th>4796</th>\n",
              "      <td>[0.0, 0.0, 0.0, 0.0, 0.0, 0.0, 0.0, 0.0, 0.0, ...</td>\n",
              "    </tr>\n",
              "    <tr>\n",
              "      <th>4797</th>\n",
              "      <td>[0.0, 0.0, 0.0, 0.0, 0.0, 0.0, 0.0, 0.0, 0.0, ...</td>\n",
              "    </tr>\n",
              "    <tr>\n",
              "      <th>4798</th>\n",
              "      <td>[0.0, 0.0, 0.0, 0.0, 0.0, 0.0, 0.0, 0.0, 0.0, ...</td>\n",
              "    </tr>\n",
              "    <tr>\n",
              "      <th>4799</th>\n",
              "      <td>[0.0, 0.0, 0.0, 0.0, 0.0, 0.0, 0.0, 0.0, 0.0, ...</td>\n",
              "    </tr>\n",
              "  </tbody>\n",
              "</table>\n",
              "<p>4799 rows × 1 columns</p>\n",
              "</div><br><label><b>dtype:</b> object</label>"
            ]
          },
          "metadata": {},
          "execution_count": 16
        }
      ],
      "source": [
        "# this code is just a hint, if you want you can do it as you please\n",
        "# as long as the output remains the same\n",
        "encoded_labels = []\n",
        "for index, row in tqdm(df.iterrows(), total=len(df)):\n",
        "    sentence_encode = []# set of encodings for this overview\n",
        "    one_hot = np.zeros(len(vocab))\n",
        "    for word in row[\"proc_overview\"]:\n",
        "      one_hot[vocab.index(word)] = 1\n",
        "    #     sentence_encode.append(word) # get encoding for this word\n",
        "    # sentence_encode = ... # sum over axis=1\n",
        "\n",
        "    encoded_labels.append(one_hot)\n",
        "\n",
        "df[\"one_hot_overview\"] = encoded_labels\n",
        "df['one_hot_overview'] # print to verify"
      ]
    },
    {
      "cell_type": "code",
      "source": [
        "for i in df[\"one_hot_overview\"].iloc[0]:\n",
        "  if i == 1:\n",
        "    print(i)"
      ],
      "metadata": {
        "colab": {
          "base_uri": "https://localhost:8080/"
        },
        "collapsed": true,
        "id": "mMe6Okx2mubz",
        "outputId": "49f8b12b-fa9b-408b-a33e-a953d61fea66"
      },
      "id": "mMe6Okx2mubz",
      "execution_count": 17,
      "outputs": [
        {
          "output_type": "stream",
          "name": "stdout",
          "text": [
            "1.0\n",
            "1.0\n",
            "1.0\n",
            "1.0\n",
            "1.0\n",
            "1.0\n",
            "1.0\n",
            "1.0\n",
            "1.0\n",
            "1.0\n",
            "1.0\n",
            "1.0\n",
            "1.0\n"
          ]
        }
      ]
    },
    {
      "cell_type": "markdown",
      "id": "7c62e127",
      "metadata": {
        "id": "7c62e127"
      },
      "source": [
        "**Q2.2.5** Each vector is a vector of floating point (64-bit) numbers. Assuming each float takes up exactly 16-bytes, how many bytes does this take to store (theoretically)?"
      ]
    },
    {
      "cell_type": "markdown",
      "id": "193b8235",
      "metadata": {
        "id": "193b8235"
      },
      "source": [
        "*Your answer here*: 4799x16x64=4914176 Bytes=4.7MB"
      ]
    },
    {
      "cell_type": "markdown",
      "id": "1f3b3700",
      "metadata": {
        "id": "1f3b3700"
      },
      "source": [
        "# Q3 Principal Component Analysis\n",
        "\n",
        "**Q3.1** Using the overview encoded into one-hot encodings, perform PCA and plot this into a 2-D image as a scatter plot."
      ]
    },
    {
      "cell_type": "code",
      "execution_count": 18,
      "id": "832f2be7",
      "metadata": {
        "id": "832f2be7",
        "colab": {
          "base_uri": "https://localhost:8080/",
          "height": 564
        },
        "outputId": "5433eeaf-7cc7-40a0-a91b-ae4ad655a393"
      },
      "outputs": [
        {
          "output_type": "display_data",
          "data": {
            "text/plain": [
              "<Figure size 800x600 with 2 Axes>"
            ],
            "image/png": "[encoded data removed]"
          },
          "metadata": {}
        }
      ],
      "source": [
        "# import PCA decomposition class from sklearn\n",
        "from sklearn.decomposition import PCA\n",
        "x_train = np.array(df[\"one_hot_overview\"].tolist())\n",
        "pca = PCA(n_components = 2)\n",
        "x_train_pca = pca.fit_transform(x_train)\n",
        "\n",
        "plt.figure(figsize=(8, 6))\n",
        "plt.scatter(x_train_pca[:, 0], x_train_pca[:, 1], c=x_train_pca[:, 1], cmap='viridis', alpha=0.6, s=5)\n",
        "plt.colorbar()\n",
        "plt.title('MNIST Data Projected using PCA')\n",
        "plt.xlabel(f'Principal Component 1')\n",
        "plt.ylabel(f'Principal Component 2')\n",
        "plt.show()"
      ]
    },
    {
      "cell_type": "markdown",
      "id": "a63054b6",
      "metadata": {
        "id": "a63054b6"
      },
      "source": [
        "**Q3.2** Do you see any interpretable structure in the above plot (\"interpretable\" $\\rightarrow$ the patterns are explainable)."
      ]
    },
    {
      "cell_type": "markdown",
      "id": "a9409e7b",
      "metadata": {
        "id": "a9409e7b"
      },
      "source": [
        "*Your text answer here*: Kindof yeah. When we just move up in the graph it goes to the other side of closeness. But this is logical since it are only 2 components."
      ]
    },
    {
      "cell_type": "markdown",
      "id": "4482c5e5",
      "metadata": {
        "id": "4482c5e5"
      },
      "source": [
        "**Q3.3** Quantify how much variance information a 2D PCA projection loses for this dataset."
      ]
    },
    {
      "cell_type": "markdown",
      "id": "2338a25d",
      "metadata": {
        "id": "2338a25d"
      },
      "source": [
        "*Your answer here*:<br>\n",
        "Loss = $1-\\sum^{2}_{i=1}$Explained variance of PCi"
      ]
    },
    {
      "cell_type": "markdown",
      "id": "7da99ba5",
      "metadata": {
        "id": "7da99ba5"
      },
      "source": [
        "**Q3.4** Plot a line graph where the y-axis is cumulative explained variance ratio and the x-axis is the number of PCA components."
      ]
    },
    {
      "cell_type": "code",
      "execution_count": 19,
      "id": "e0cac8ff",
      "metadata": {
        "scrolled": false,
        "id": "e0cac8ff",
        "colab": {
          "base_uri": "https://localhost:8080/",
          "height": 449
        },
        "outputId": "0effb310-e16d-42de-85ed-89c61669d212"
      },
      "outputs": [
        {
          "output_type": "display_data",
          "data": {
            "text/plain": [
              "<Figure size 640x480 with 1 Axes>"
            ],
            "image/png": "[encoded data removed]"
          },
          "metadata": {}
        }
      ],
      "source": [
        "# Set up PCA object with the desired number of components\n",
        "pca = PCA(n_components=1000)\n",
        "\n",
        "# fit transform one_hot_overview encodings\n",
        "labels_pca = pca.fit_transform(x_train)\n",
        "# get explained variance ratio from object, store it in a list\n",
        "powers = pca.explained_variance_ratio_\n",
        "\n",
        "plt.plot(powers, label=\"Explained Variance\")\n",
        "plt.plot([np.sum(powers[:i]) for i in range(len(powers)-1)], label=\"Cumulative Explained Variance\")\n",
        "# set up y label, x label,\n",
        "plt.legend()\n",
        "plt.xlabel(\"Number of components\")\n",
        "plt.ylabel(\"Variance\")\n",
        "plt.show()"
      ]
    },
    {
      "cell_type": "markdown",
      "id": "8b36c9b2",
      "metadata": {
        "id": "8b36c9b2"
      },
      "source": [
        "**Q3.5** How many principal components do you need in order to explain 80% of the total variance in the data?\n",
        "\n",
        "\n",
        "\n",
        "\n",
        "\n",
        "Note: don't just estimate it by eye, write some code to compute it for you."
      ]
    },
    {
      "cell_type": "code",
      "execution_count": 20,
      "id": "95c44b2d",
      "metadata": {
        "id": "95c44b2d",
        "colab": {
          "base_uri": "https://localhost:8080/"
        },
        "outputId": "c86ef944-d3bd-4078-a333-1bce09352168"
      },
      "outputs": [
        {
          "output_type": "stream",
          "name": "stdout",
          "text": [
            "1\n"
          ]
        }
      ],
      "source": [
        "# your code answer here\n",
        "num_components = np.argmax(np.sum(powers) >= 0.80) + 1\n",
        "print(num_components)"
      ]
    },
    {
      "cell_type": "markdown",
      "id": "b608db91",
      "metadata": {
        "id": "b608db91"
      },
      "source": [
        "*Your text answer here* THERE SEEMS TO BE AN ERROR IN MY CODE. I don't know how to fix it . But my guess would be around 2000 number of components. Which would be a crazy amount but i will go on with it."
      ]
    },
    {
      "cell_type": "markdown",
      "id": "ee3b5c33",
      "metadata": {
        "id": "ee3b5c33"
      },
      "source": [
        "**Q3.6** Using the number of dimensions you found in Q3.5, fit and transform your overview encodings using PCA and add it to a new column called `overview_pca` in the dataframe."
      ]
    },
    {
      "cell_type": "code",
      "execution_count": 21,
      "id": "8a6eb40b",
      "metadata": {
        "id": "8a6eb40b",
        "colab": {
          "base_uri": "https://localhost:8080/",
          "height": 547
        },
        "outputId": "2b483e27-df59-4795-ae51-a1cb54294e9f"
      },
      "outputs": [
        {
          "output_type": "error",
          "ename": "KeyError",
          "evalue": "'overview_pca'",
          "traceback": [
            "\u001b[0;31m---------------------------------------------------------------------------\u001b[0m",
            "\u001b[0;31mKeyError\u001b[0m                                  Traceback (most recent call last)",
            "\u001b[0;32m/usr/local/lib/python3.11/dist-packages/pandas/core/indexes/base.py\u001b[0m in \u001b[0;36mget_loc\u001b[0;34m(self, key)\u001b[0m\n\u001b[1;32m   3804\u001b[0m         \u001b[0;32mtry\u001b[0m\u001b[0;34m:\u001b[0m\u001b[0;34m\u001b[0m\u001b[0;34m\u001b[0m\u001b[0m\n\u001b[0;32m-> 3805\u001b[0;31m             \u001b[0;32mreturn\u001b[0m \u001b[0mself\u001b[0m\u001b[0;34m.\u001b[0m\u001b[0m_engine\u001b[0m\u001b[0;34m.\u001b[0m\u001b[0mget_loc\u001b[0m\u001b[0;34m(\u001b[0m\u001b[0mcasted_key\u001b[0m\u001b[0;34m)\u001b[0m\u001b[0;34m\u001b[0m\u001b[0;34m\u001b[0m\u001b[0m\n\u001b[0m\u001b[1;32m   3806\u001b[0m         \u001b[0;32mexcept\u001b[0m \u001b[0mKeyError\u001b[0m \u001b[0;32mas\u001b[0m \u001b[0merr\u001b[0m\u001b[0;34m:\u001b[0m\u001b[0;34m\u001b[0m\u001b[0;34m\u001b[0m\u001b[0m\n",
            "\u001b[0;32mindex.pyx\u001b[0m in \u001b[0;36mpandas._libs.index.IndexEngine.get_loc\u001b[0;34m()\u001b[0m\n",
            "\u001b[0;32mindex.pyx\u001b[0m in \u001b[0;36mpandas._libs.index.IndexEngine.get_loc\u001b[0;34m()\u001b[0m\n",
            "\u001b[0;32mpandas/_libs/hashtable_class_helper.pxi\u001b[0m in \u001b[0;36mpandas._libs.hashtable.PyObjectHashTable.get_item\u001b[0;34m()\u001b[0m\n",
            "\u001b[0;32mpandas/_libs/hashtable_class_helper.pxi\u001b[0m in \u001b[0;36mpandas._libs.hashtable.PyObjectHashTable.get_item\u001b[0;34m()\u001b[0m\n",
            "\u001b[0;31mKeyError\u001b[0m: 'overview_pca'",
            "\nThe above exception was the direct cause of the following exception:\n",
            "\u001b[0;31mKeyError\u001b[0m                                  Traceback (most recent call last)",
            "\u001b[0;32m<ipython-input-21-9451fbf55061>\u001b[0m in \u001b[0;36m<cell line: 0>\u001b[0;34m()\u001b[0m\n\u001b[1;32m      3\u001b[0m \u001b[0mlabels_pca\u001b[0m \u001b[0;34m=\u001b[0m \u001b[0mpca\u001b[0m\u001b[0;34m.\u001b[0m\u001b[0mfit_transform\u001b[0m\u001b[0;34m(\u001b[0m\u001b[0mx_train\u001b[0m\u001b[0;34m)\u001b[0m\u001b[0;34m\u001b[0m\u001b[0;34m\u001b[0m\u001b[0m\n\u001b[1;32m      4\u001b[0m \u001b[0mpca_df\u001b[0m \u001b[0;34m=\u001b[0m \u001b[0mpd\u001b[0m\u001b[0;34m.\u001b[0m\u001b[0mDataFrame\u001b[0m\u001b[0;34m(\u001b[0m\u001b[0mlabels_pca\u001b[0m\u001b[0;34m,\u001b[0m \u001b[0mcolumns\u001b[0m\u001b[0;34m=\u001b[0m\u001b[0;34m[\u001b[0m\u001b[0;34mf\"PC{i+1}\"\u001b[0m \u001b[0;32mfor\u001b[0m \u001b[0mi\u001b[0m \u001b[0;32min\u001b[0m \u001b[0mrange\u001b[0m\u001b[0;34m(\u001b[0m\u001b[0mn_dims\u001b[0m\u001b[0;34m)\u001b[0m\u001b[0;34m]\u001b[0m\u001b[0;34m)\u001b[0m\u001b[0;34m\u001b[0m\u001b[0;34m\u001b[0m\u001b[0m\n\u001b[0;32m----> 5\u001b[0;31m \u001b[0mdf\u001b[0m\u001b[0;34m[\u001b[0m\u001b[0;34m\"overview_pca\"\u001b[0m\u001b[0;34m]\u001b[0m \u001b[0;34m=\u001b[0m \u001b[0mpd\u001b[0m\u001b[0;34m.\u001b[0m\u001b[0mconcat\u001b[0m\u001b[0;34m(\u001b[0m\u001b[0;34m[\u001b[0m\u001b[0mdf\u001b[0m\u001b[0;34m[\u001b[0m\u001b[0;34m\"overview_pca\"\u001b[0m\u001b[0;34m]\u001b[0m\u001b[0;34m,\u001b[0m \u001b[0mpca_df\u001b[0m\u001b[0;34m]\u001b[0m\u001b[0;34m,\u001b[0m \u001b[0maxis\u001b[0m\u001b[0;34m=\u001b[0m\u001b[0;36m1\u001b[0m\u001b[0;34m)\u001b[0m\u001b[0;34m\u001b[0m\u001b[0;34m\u001b[0m\u001b[0m\n\u001b[0m\u001b[1;32m      6\u001b[0m \u001b[0mdf\u001b[0m\u001b[0;34m[\u001b[0m\u001b[0;34m\"overview_pca\"\u001b[0m\u001b[0;34m]\u001b[0m\u001b[0;34m\u001b[0m\u001b[0;34m\u001b[0m\u001b[0m\n",
            "\u001b[0;32m/usr/local/lib/python3.11/dist-packages/pandas/core/frame.py\u001b[0m in \u001b[0;36m__getitem__\u001b[0;34m(self, key)\u001b[0m\n\u001b[1;32m   4100\u001b[0m             \u001b[0;32mif\u001b[0m \u001b[0mself\u001b[0m\u001b[0;34m.\u001b[0m\u001b[0mcolumns\u001b[0m\u001b[0;34m.\u001b[0m\u001b[0mnlevels\u001b[0m \u001b[0;34m>\u001b[0m \u001b[0;36m1\u001b[0m\u001b[0;34m:\u001b[0m\u001b[0;34m\u001b[0m\u001b[0;34m\u001b[0m\u001b[0m\n\u001b[1;32m   4101\u001b[0m                 \u001b[0;32mreturn\u001b[0m \u001b[0mself\u001b[0m\u001b[0;34m.\u001b[0m\u001b[0m_getitem_multilevel\u001b[0m\u001b[0;34m(\u001b[0m\u001b[0mkey\u001b[0m\u001b[0;34m)\u001b[0m\u001b[0;34m\u001b[0m\u001b[0;34m\u001b[0m\u001b[0m\n\u001b[0;32m-> 4102\u001b[0;31m             \u001b[0mindexer\u001b[0m \u001b[0;34m=\u001b[0m \u001b[0mself\u001b[0m\u001b[0;34m.\u001b[0m\u001b[0mcolumns\u001b[0m\u001b[0;34m.\u001b[0m\u001b[0mget_loc\u001b[0m\u001b[0;34m(\u001b[0m\u001b[0mkey\u001b[0m\u001b[0;34m)\u001b[0m\u001b[0;34m\u001b[0m\u001b[0;34m\u001b[0m\u001b[0m\n\u001b[0m\u001b[1;32m   4103\u001b[0m             \u001b[0;32mif\u001b[0m \u001b[0mis_integer\u001b[0m\u001b[0;34m(\u001b[0m\u001b[0mindexer\u001b[0m\u001b[0;34m)\u001b[0m\u001b[0;34m:\u001b[0m\u001b[0;34m\u001b[0m\u001b[0;34m\u001b[0m\u001b[0m\n\u001b[1;32m   4104\u001b[0m                 \u001b[0mindexer\u001b[0m \u001b[0;34m=\u001b[0m \u001b[0;34m[\u001b[0m\u001b[0mindexer\u001b[0m\u001b[0;34m]\u001b[0m\u001b[0;34m\u001b[0m\u001b[0;34m\u001b[0m\u001b[0m\n",
            "\u001b[0;32m/usr/local/lib/python3.11/dist-packages/pandas/core/indexes/base.py\u001b[0m in \u001b[0;36mget_loc\u001b[0;34m(self, key)\u001b[0m\n\u001b[1;32m   3810\u001b[0m             ):\n\u001b[1;32m   3811\u001b[0m                 \u001b[0;32mraise\u001b[0m \u001b[0mInvalidIndexError\u001b[0m\u001b[0;34m(\u001b[0m\u001b[0mkey\u001b[0m\u001b[0;34m)\u001b[0m\u001b[0;34m\u001b[0m\u001b[0;34m\u001b[0m\u001b[0m\n\u001b[0;32m-> 3812\u001b[0;31m             \u001b[0;32mraise\u001b[0m \u001b[0mKeyError\u001b[0m\u001b[0;34m(\u001b[0m\u001b[0mkey\u001b[0m\u001b[0;34m)\u001b[0m \u001b[0;32mfrom\u001b[0m \u001b[0merr\u001b[0m\u001b[0;34m\u001b[0m\u001b[0;34m\u001b[0m\u001b[0m\n\u001b[0m\u001b[1;32m   3813\u001b[0m         \u001b[0;32mexcept\u001b[0m \u001b[0mTypeError\u001b[0m\u001b[0;34m:\u001b[0m\u001b[0;34m\u001b[0m\u001b[0;34m\u001b[0m\u001b[0m\n\u001b[1;32m   3814\u001b[0m             \u001b[0;31m# If we have a listlike key, _check_indexing_error will raise\u001b[0m\u001b[0;34m\u001b[0m\u001b[0;34m\u001b[0m\u001b[0m\n",
            "\u001b[0;31mKeyError\u001b[0m: 'overview_pca'"
          ]
        }
      ],
      "source": [
        "n_dims = 2000\n",
        "pca = PCA(n_components=n_dims)\n",
        "labels_pca = pca.fit_transform(x_train)\n",
        "pca_df = pd.DataFrame(labels_pca, columns=[f\"PC{i+1}\" for i in range(n_dims)])\n",
        "df[\"overview_pca\"] = pd.concat([df[\"overview_pca\"], pca_df], axis=1)\n",
        "df[\"overview_pca\"]"
      ]
    },
    {
      "cell_type": "markdown",
      "id": "309d3256",
      "metadata": {
        "id": "309d3256"
      },
      "source": [
        "# Q4 K-Means Clustering\n",
        "\n",
        "**Q4.1** Cluster the movies based on the features that were extracted via PCA in the last step. Set $K=20$. Add the predicted cluster into the dataframe as a new column called `cluster_kmeans`. Print out the elements of cluster number 0 from the dataframe."
      ]
    },
    {
      "cell_type": "code",
      "execution_count": 22,
      "id": "f5f5781e",
      "metadata": {
        "id": "f5f5781e",
        "colab": {
          "base_uri": "https://localhost:8080/"
        },
        "outputId": "efd649a9-993b-45b1-87f1-6181cf66a012"
      },
      "outputs": [
        {
          "output_type": "stream",
          "name": "stdout",
          "text": [
            "      index                        title  \\\n",
            "10       10             Superman Returns   \n",
            "40       40                       Cars 2   \n",
            "60       60            A Christmas Carol   \n",
            "62       62         The Legend of Tarzan   \n",
            "73       73                Evan Almighty   \n",
            "...     ...                          ...   \n",
            "4730   4733                  Open Secret   \n",
            "4742   4745  The Brain That Wouldn't Die   \n",
            "4750   4753                      Hayride   \n",
            "4777   4780                  Dutch Kills   \n",
            "4795   4798                  El Mariachi   \n",
            "\n",
            "                                               overview  \\\n",
            "10    Superman returns to discover his 5-year absenc...   \n",
            "40    Star race car Lightning McQueen and his pal Ma...   \n",
            "60    Miser Ebenezer Scrooge is awakened on Christma...   \n",
            "62    Tarzan, having acclimated to life in London, i...   \n",
            "73    God contacts Congressman Evan Baxter and tells...   \n",
            "...                                                 ...   \n",
            "4730  A couple discovers that their friend has gone ...   \n",
            "4742  Dr. Bill Cortner (Jason Evers) and his fiancée...   \n",
            "4750  A college student returning home for Halloween...   \n",
            "4777  A desperate ex-con is forced to gather his old...   \n",
            "4795  El Mariachi just wants to play his guitar and ...   \n",
            "\n",
            "                                                 genres      proc_genres  \\\n",
            "10    [{\"id\": 12, \"name\": \"Adventure\"}, {\"id\": 14, \"...        Adventure   \n",
            "40    [{\"id\": 16, \"name\": \"Animation\"}, {\"id\": 10751...           Comedy   \n",
            "60    [{\"id\": 16, \"name\": \"Animation\"}, {\"id\": 18, \"...            Drama   \n",
            "62    [{\"id\": 28, \"name\": \"Action\"}, {\"id\": 12, \"nam...           Action   \n",
            "73    [{\"id\": 14, \"name\": \"Fantasy\"}, {\"id\": 35, \"na...           Family   \n",
            "...                                                 ...              ...   \n",
            "4730  [{\"id\": 80, \"name\": \"Crime\"}, {\"id\": 9648, \"na...            Crime   \n",
            "4742  [{\"id\": 27, \"name\": \"Horror\"}, {\"id\": 878, \"na...  Science Fiction   \n",
            "4750  [{\"id\": 53, \"name\": \"Thriller\"}, {\"id\": 27, \"n...           Horror   \n",
            "4777  [{\"id\": 53, \"name\": \"Thriller\"}, {\"id\": 80, \"n...            Drama   \n",
            "4795  [{\"id\": 28, \"name\": \"Action\"}, {\"id\": 80, \"nam...            Crime   \n",
            "\n",
            "                                         one_hot_genres  \\\n",
            "10    [0.0, 1.0, 0.0, 0.0, 0.0, 0.0, 0.0, 0.0, 0.0, ...   \n",
            "40    [0.0, 0.0, 0.0, 1.0, 0.0, 0.0, 0.0, 0.0, 0.0, ...   \n",
            "60    [0.0, 0.0, 0.0, 0.0, 0.0, 0.0, 1.0, 0.0, 0.0, ...   \n",
            "62    [1.0, 0.0, 0.0, 0.0, 0.0, 0.0, 0.0, 0.0, 0.0, ...   \n",
            "73    [0.0, 0.0, 0.0, 0.0, 0.0, 0.0, 0.0, 1.0, 0.0, ...   \n",
            "...                                                 ...   \n",
            "4730  [0.0, 0.0, 0.0, 0.0, 1.0, 0.0, 0.0, 0.0, 0.0, ...   \n",
            "4742  [0.0, 0.0, 0.0, 0.0, 0.0, 0.0, 0.0, 0.0, 0.0, ...   \n",
            "4750  [0.0, 0.0, 0.0, 0.0, 0.0, 0.0, 0.0, 0.0, 0.0, ...   \n",
            "4777  [0.0, 0.0, 0.0, 0.0, 0.0, 0.0, 1.0, 0.0, 0.0, ...   \n",
            "4795  [0.0, 0.0, 0.0, 0.0, 1.0, 0.0, 0.0, 0.0, 0.0, ...   \n",
            "\n",
            "                                          proc_overview  overview_len  \\\n",
            "10    [Superman, returns, to, discover, his, 5year, ...           303   \n",
            "40    [Star, race, car, Lightning, McQueen, and, his...           236   \n",
            "60    [Miser, Ebenezer, Scrooge, is, awakened, on, C...           374   \n",
            "62    [Tarzan, having, acclimated, to, life, in, Lon...           143   \n",
            "73    [God, contacts, Congressman, Evan, Baxter, and...            99   \n",
            "...                                                 ...           ...   \n",
            "4730  [A, couple, discovers, that, their, friend, ha...           141   \n",
            "4742  [Dr, Bill, Cortner, Jason, Evers, and, his, fi...           436   \n",
            "4750  [A, college, student, returning, home, for, Ha...           151   \n",
            "4777  [A, desperate, excon, is, forced, to, gather, ...           125   \n",
            "4795  [El, Mariachi, just, wants, to, play, his, gui...           329   \n",
            "\n",
            "                                       one_hot_overview  cluster_kmeans  \n",
            "10    [0.0, 0.0, 0.0, 0.0, 0.0, 0.0, 0.0, 0.0, 0.0, ...               0  \n",
            "40    [0.0, 0.0, 0.0, 0.0, 0.0, 0.0, 0.0, 0.0, 0.0, ...               0  \n",
            "60    [0.0, 0.0, 0.0, 0.0, 0.0, 0.0, 0.0, 0.0, 0.0, ...               0  \n",
            "62    [0.0, 0.0, 0.0, 0.0, 0.0, 0.0, 0.0, 0.0, 0.0, ...               0  \n",
            "73    [0.0, 0.0, 0.0, 0.0, 0.0, 0.0, 0.0, 0.0, 0.0, ...               0  \n",
            "...                                                 ...             ...  \n",
            "4730  [0.0, 0.0, 0.0, 0.0, 0.0, 0.0, 0.0, 0.0, 0.0, ...               0  \n",
            "4742  [0.0, 0.0, 0.0, 0.0, 0.0, 0.0, 0.0, 0.0, 0.0, ...               0  \n",
            "4750  [0.0, 0.0, 0.0, 0.0, 0.0, 0.0, 0.0, 0.0, 0.0, ...               0  \n",
            "4777  [0.0, 0.0, 0.0, 0.0, 0.0, 0.0, 0.0, 0.0, 0.0, ...               0  \n",
            "4795  [0.0, 0.0, 0.0, 0.0, 0.0, 0.0, 0.0, 0.0, 0.0, ...               0  \n",
            "\n",
            "[259 rows x 10 columns]\n"
          ]
        }
      ],
      "source": [
        "# import KMeans class\n",
        "from sklearn.cluster import KMeans\n",
        "\n",
        "# Perform K-means clustering\n",
        "kmeans = KMeans(n_clusters = 20)\n",
        "# fit model\n",
        "kmeans.fit(x_train)\n",
        "\n",
        "y_preds = kmeans.predict(x_train) # get predictions\n",
        "df[\"cluster_kmeans\"] = y_preds # set predictions\n",
        "\n",
        "# print out elements of cluster 0\n",
        "print(df[df[\"cluster_kmeans\"] == 0])"
      ]
    },
    {
      "cell_type": "markdown",
      "id": "34334c6c",
      "metadata": {
        "id": "34334c6c"
      },
      "source": [
        "**Q4.2** Does this clustering seem alright to you (based on your movie watching history)? Are there movies that go well together and movies that don't?"
      ]
    },
    {
      "cell_type": "markdown",
      "id": "9f1d40cc",
      "metadata": {
        "id": "9f1d40cc"
      },
      "source": [
        "*Your text answer here*: Based on the texts it looks like this clustering is fine! Although we can see thatfor example the top 5 in the cluster are a lot more fantasy like than the last ones. So there might be a bit of misinterpretation."
      ]
    },
    {
      "cell_type": "markdown",
      "id": "0407f9e4",
      "metadata": {
        "id": "0407f9e4"
      },
      "source": [
        "**Q4.3** Now, we'll figure out whether using the elbow method is right for this dataset. Plot a loss (using `kmeans.inertia_`) versus cluster size plot. Is there an elbow that you see clearly? What cluster size would you choose?"
      ]
    },
    {
      "cell_type": "markdown",
      "id": "4984dcd9",
      "metadata": {
        "id": "4984dcd9"
      },
      "source": [
        "*Your text answer here*: I wouldn't say there is a very clear elbow to be seen.Although i would choose something around 4 or 5."
      ]
    },
    {
      "cell_type": "code",
      "execution_count": null,
      "id": "cb3a37ee",
      "metadata": {
        "id": "cb3a37ee"
      },
      "outputs": [],
      "source": [
        " # your code answer here\n",
        "wcss = []\n",
        "for k in range(1, 21):\n",
        "  kmeans = KMeans(n_clusters=k)\n",
        "  kmeans.fit(x_train)\n",
        "  wcss.append(kmeans.inertia_)\n",
        "\n",
        "plt.plot(range(1, 21), wcss, marker = 'o')\n",
        "plt.xlabel(\"Number of Clusters (K)\")\n",
        "plt.ylabel(\"Within-Cluster Sum of Squares (WCSS)\")\n",
        "plt.title(\"Elbow Method\")\n",
        "plt.show()"
      ]
    },
    {
      "cell_type": "markdown",
      "id": "3e89e224",
      "metadata": {
        "id": "3e89e224"
      },
      "source": [
        "# Q5 Gaussian Mixture Models\n",
        "\n",
        "**Q5.1** As with the K-means above, cluster the movies based on the features that were extracted via PCA in a previous step. Set $K=20$. Add the predicted cluster into the dataframe as a new column called `cluster_gmm`. Print out the elements of a single cluster of your choice from the dataframe."
      ]
    },
    {
      "cell_type": "code",
      "execution_count": null,
      "id": "86735028",
      "metadata": {
        "id": "86735028"
      },
      "outputs": [],
      "source": [
        "# Your code answer here: Using less K's since it won't run\n",
        "from sklearn.mixture import GaussianMixture\n",
        "gmm = GaussianMixture(10)\n",
        "gmm.fit(x_train)\n",
        "\n",
        "predicted_cluster_gmm = gmm.predict(x_train)\n",
        "df[\"cluster_gmm\"] = predicted_cluster_gmm # set predictions\n",
        "df[\"cluster_gmm\"]"
      ]
    },
    {
      "cell_type": "markdown",
      "id": "95ed02d9",
      "metadata": {
        "id": "95ed02d9"
      },
      "source": [
        "**Q4.2** Does this clustering seem alright to you (based on your movie watching history)? Are there movies that go well together and movies that don't? How does this compare to K-Means Clustering?"
      ]
    },
    {
      "cell_type": "markdown",
      "id": "c62e20dd",
      "metadata": {
        "id": "c62e20dd"
      },
      "source": [
        "*Your text answer here* This code doesn't seem to work... I would love to try to answer this but this isn't possible sadly. I saw there are a few questions coming up which build on this. It probably won't be the greatest answers so sorry therefore. Since i can't run it all i have tried my best to fill everything in."
      ]
    },
    {
      "cell_type": "markdown",
      "id": "3b0064a1",
      "metadata": {
        "id": "3b0064a1"
      },
      "source": [
        "**Q4.3** Let's check out the size of the clusters. Create a double bar plot (**as you did in the last assignment**) showing the different sizes of the clusters.\n",
        "\n",
        "*Hint: you may want to consider `df.value_counts()` if you're unfamiliar.*"
      ]
    },
    {
      "cell_type": "code",
      "execution_count": null,
      "id": "e775ad4f",
      "metadata": {
        "id": "e775ad4f"
      },
      "outputs": [],
      "source": [
        "# Create an array for the x-axis positions\n",
        "# Plotting the bars\n",
        "# Add labels, title, and legend\n",
        "from sklearn.mixture import GaussianMixture\n",
        "\n",
        "\n",
        "wcss = []\n",
        "for k in range(1, 21):\n",
        "  gmm = GaussianMixture(k)\n",
        "  gmm.fit(x_train)\n",
        "  wcss.append(gmm.inertia_)\n",
        "\n",
        "plt.plot(range(1, 21), wcss, marker = 'o')\n",
        "plt.xlabel(\"Number of Clusters (K)\")\n",
        "plt.ylabel(\"Within-Cluster Sum of Squares (WCSS)\")\n",
        "plt.title(\"Elbow Method\")\n",
        "plt.show()"
      ]
    },
    {
      "cell_type": "markdown",
      "id": "cfc124da",
      "metadata": {
        "id": "cfc124da"
      },
      "source": [
        "**Q4.4** Do you see a significant difference in the sizes of the clusters? Which is more uniform? Any thought on why?"
      ]
    },
    {
      "cell_type": "markdown",
      "id": "9f538519",
      "metadata": {
        "id": "9f538519"
      },
      "source": [
        "*Your text answer here*"
      ]
    },
    {
      "cell_type": "markdown",
      "id": "aa60615d",
      "metadata": {
        "id": "aa60615d"
      },
      "source": [
        "# Q6: A very simple recommender system\n",
        "\n",
        "One useful thing that clustering is often used for (though at a much greater complexity) is in **recommender systems**. These are systems with users and items (movies, files, documents, etc.), where new items are shown to the user based on what they've previously interacted with, and possibly also on the behaviour of other users.\n",
        "\n",
        "**Q6.1** Assume your dentist has just watched the movie Avatar and asks you for a recommendation. Lucky for you, you just finished this assignment. Using the cluster indices of the movie Avatar for both the K-means and GMM methods, print out suggestions for new movies."
      ]
    },
    {
      "cell_type": "code",
      "execution_count": null,
      "id": "86a74f68",
      "metadata": {
        "id": "86a74f68"
      },
      "outputs": [],
      "source": [
        "prev_watch = \"Avatar\"\n",
        "\n",
        "cluster_kmeans = df.loc[df['movie_title'] == prev_watch, 'kmeans_cluster'].values[0]\n",
        "cluster_gmm = df.loc[df['movie_title'] == prev_watch, 'gmm_cluster'].values[0]\n",
        "\n",
        "# print out similar movies\n",
        "similar_movies_kmeans = df[df['kmeans_cluster'] == cluster_kmeans]['movie_title'].tolist()\n",
        "similar_movies_gmm = df[df['gmm_cluster'] == cluster_gmm]['movie_title'].tolist()\n",
        "similar_movies_kmeans.remove(prev_watch)\n",
        "similar_movies_gmm.remove(prev_watch)\n",
        "\n",
        "print(similar_movies_kmeans)\n",
        "print(similar_movies_gmm)"
      ]
    },
    {
      "cell_type": "code",
      "source": [],
      "metadata": {
        "id": "bdhF-9tmKjST"
      },
      "id": "bdhF-9tmKjST",
      "execution_count": null,
      "outputs": []
    },
    {
      "cell_type": "markdown",
      "id": "4ecec1ff",
      "metadata": {
        "id": "4ecec1ff"
      },
      "source": [
        "**Q6.2** Are any of the two recommender systems any good? Would you use them if your real dentist asks for a movie suggestion?"
      ]
    },
    {
      "cell_type": "markdown",
      "id": "aae96b8a",
      "metadata": {
        "id": "aae96b8a"
      },
      "source": [
        "*Your text answer here*: I don't think the my first try on the kmeans was veryg ood. I wasn't able to run the gmm so therefore i sadly can't answer these"
      ]
    },
    {
      "cell_type": "markdown",
      "id": "92b84753",
      "metadata": {
        "id": "92b84753"
      },
      "source": [
        "**Q6.3** How would you try making the recommender systems better?"
      ]
    },
    {
      "cell_type": "markdown",
      "id": "40d3f6dd",
      "metadata": {
        "id": "40d3f6dd"
      },
      "source": [
        "*Your text answer here*: I would try to remove the very common words from the movie description."
      ]
    },
    {
      "cell_type": "markdown",
      "id": "7df2d34a",
      "metadata": {
        "id": "7df2d34a"
      },
      "source": [
        "**Q6.4** Say your dentist likes the movies you suggested and has watched a few more since you met him last. How would you incorporate this fact (recommendation based on multiple movies) into your suggestions?"
      ]
    },
    {
      "cell_type": "markdown",
      "id": "b3549de4",
      "metadata": {
        "id": "b3549de4"
      },
      "source": [
        "*Your text answer here*: It's a positive fact. I would maybe try to look into the specific cluster and see what makes the reccomendation so good."
      ]
    },
    {
      "cell_type": "markdown",
      "id": "f20b74ce",
      "metadata": {
        "id": "f20b74ce"
      },
      "source": [
        "**Q6.5** An alternative method for recommendations is to use your encoded movie-feature vectors (in this case your overview+PCA vector) in order to find out what movie may be most similar to the current one. In the case of K-Means and GMMs, \"similarity\" referred to Euclidean distance. However, in this exercise, we will use *cosine similarity*, which is another very common similarity measure, and is related to the angle between two vectors. It is defined as:\n",
        "\n",
        "$$sim(v_1, v_2)=\\frac{v_1\\cdot v_2}{||v_1||\\cdot||v_2||}$$\n",
        "\n",
        "Where $v_1$ and $v_2$ are vectors and the operator $||\\cdot||$ is the norm of the vector. The function ranges from $[-1,1]$ (where 1 means that the vectors point in the same direction).\n",
        "\n",
        "Define an appropriate function `cosine_sim`. Add a column called `cos_sim_to_avatar` in the df and print out the head of the df, sorted by the similarity. What movies would you recommend now? Is this better than the clustering methods?"
      ]
    },
    {
      "cell_type": "code",
      "execution_count": null,
      "id": "cedf60f3",
      "metadata": {
        "id": "cedf60f3"
      },
      "outputs": [],
      "source": [
        "def cosine_sim(v1, v2):\n",
        "    return np.dot(v1, v2) / (np.linalg.norm(v1) * np.linalg.norm(v2))\n",
        "\n",
        "# get overview_pca encoding of previously watched film\n",
        "prev_watch_enc = df.loc[df['movie_title'] == prev_watch, 'overview_pca'].values[0]\n",
        "\n",
        "sims = [] # set up place to store similarities\n",
        "for i, row in df.iterrows():\n",
        "    sims.append(cosine_sim(prev_watch_enc, row['overview_pca']))\n",
        "\n",
        "df[\"cos_sim_to_avatar\"] = sims\n",
        "df = df.sort_values(\"cos_sim_to_avatar\", ascending=False) # sort df\n",
        "df # print to verify"
      ]
    },
    {
      "cell_type": "markdown",
      "id": "40391e82",
      "metadata": {
        "id": "40391e82"
      },
      "source": [
        "*Your text answer here*"
      ]
    },
    {
      "cell_type": "markdown",
      "id": "a7b1e343",
      "metadata": {
        "id": "a7b1e343"
      },
      "source": [
        "# Q7 Unsupervised Learning as a Tool\n",
        "\n",
        "At the end of this brief forey into natural language processing, we will end with an interesting task: can a machine predict the genre of a movie based purely on the first 10 words of its overview?\n",
        "\n",
        "First, the following cell shuffles the dataset and splits it into a training and test set. The random seed and random state ensure that the train and test samples are the same for you all the time, and *probably* your classmates too. You can verify this by printing out the dataframes and checking it for yourself."
      ]
    },
    {
      "cell_type": "code",
      "execution_count": null,
      "id": "f5b1bde1",
      "metadata": {
        "id": "f5b1bde1"
      },
      "outputs": [],
      "source": [
        "import numpy as np\n",
        "np.random.seed(0)\n",
        "n_train = int(0.8*len(df))\n",
        "df_shuffle = df.sample(frac=1, random_state=42).reset_index(drop=True)\n",
        "df_train = df_shuffle[:n_train].reset_index(drop=True)\n",
        "df_test = df_shuffle[n_train:].reset_index(drop=True)\n",
        "print(len(df_train), len(df_test))"
      ]
    },
    {
      "cell_type": "markdown",
      "id": "92f9d534",
      "metadata": {
        "id": "92f9d534"
      },
      "source": [
        "## Train, test, evaluate\n",
        "\n",
        "Using a supervised learning method of your choice, try predicting the genre of a movie from the overview. The way you preprocess your data is up to you, and you can take inspiration from the above exercises (e.g. PCA on the one-hot encodings as input, one-hot label encodings as output). There are a number of hyperparameters you can choose depending on your selected method (number of words in your overview, number of dimensions, number of clusters, hyperparameters of your supervised model...), thus, make sure to perform hyperparameter optimization in some way (grid-search, fine-tuning, etc). Once you are happy with how your model is performing, **print out the train_score (accuracy$\\in[0,1]$), test_score (accuracy$\\in[0,1]$), mean training time (in seconds), and mean inference time (in seconds) of your model**.\n",
        "\n",
        "If you are already excited about neural networks, you may also choose to use that as your supervised method. The easiest way to do it is with sklearn's `MLPClassifier` module. The main hyperparameter you would need to tune is the architecture of your model -- how many hidden layers, and how large is each one. For this task, in order to get best performance, you do not necessarily need an MLP (multi-layer perceptron) but feel free to experiment.\n",
        "\n",
        "*Hint: the `train_and_eval` function from the last assignment should be of great help here*"
      ]
    },
    {
      "cell_type": "code",
      "execution_count": null,
      "id": "e9ac379d",
      "metadata": {
        "id": "e9ac379d"
      },
      "outputs": [],
      "source": [
        "# your code here: feel free to add extra cells"
      ]
    },
    {
      "cell_type": "markdown",
      "id": "5976997e",
      "metadata": {
        "id": "5976997e"
      },
      "source": [
        "Write a paragraph of ~150 words about how you went about selecting and tuning your model, and how you may want to make improvements to your model if you were to continue working on this. Plots are very good but not strictly necessary (i.e. try to add plots if you can)."
      ]
    },
    {
      "cell_type": "markdown",
      "id": "54186a60",
      "metadata": {
        "id": "54186a60"
      },
      "source": [
        "*Your text answer here*"
      ]
    },
    {
      "cell_type": "markdown",
      "id": "14b50007",
      "metadata": {
        "id": "14b50007"
      },
      "source": [
        "# BONUS\n",
        "\n",
        "If you are happy with your score and wish to see how well it is doing with respect to other people (a sort of mini-competition), fill out the following form with the train_score (accuracy$\\in[0,1]$), test_score (accuracy$\\in[0,1]$), mean training time (in seconds), and mean inference time (in seconds) of your model, as well as what method you use. You can submit as many times before the deadline as you wish. Your final results will be correlated with your submission in order to validate your results (if we cannot validate them, they will be immediately disqualified).\n",
        "\n",
        "[FORM HERE](https://forms.gle/rXRtXScABH5oDLRWA)"
      ]
    }
  ],
  "metadata": {
    "kernelspec": {
      "display_name": "Python 3",
      "name": "python3"
    },
    "language_info": {
      "codemirror_mode": {
        "name": "ipython",
        "version": 3
      },
      "file_extension": ".py",
      "mimetype": "text/x-python",
      "name": "python",
      "nbconvert_exporter": "python",
      "pygments_lexer": "ipython3",
      "version": "3.10.7"
    },
    "colab": {
      "provenance": [],
      "include_colab_link": true
    }
  },
  "nbformat": 4,
  "nbformat_minor": 5
}